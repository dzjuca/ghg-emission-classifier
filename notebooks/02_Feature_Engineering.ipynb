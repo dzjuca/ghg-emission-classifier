{
 "cells": [
  {
   "metadata": {},
   "cell_type": "markdown",
   "source": "### 2. Feature Engineering - Emisiones GEI por Sector Industrial",
   "id": "f527e840d60dca14"
  },
  {
   "metadata": {},
   "cell_type": "markdown",
   "source": "#### 2.0 Imports",
   "id": "199b9d2260e6d686"
  },
  {
   "metadata": {
    "ExecuteTime": {
     "end_time": "2025-10-14T18:01:54.781502Z",
     "start_time": "2025-10-14T18:01:54.763611Z"
    }
   },
   "cell_type": "code",
   "source": [
    "import importlib\n",
    "import pandas as pd\n",
    "import numpy as np\n",
    "import matplotlib.pyplot as plt\n",
    "import seaborn as sns\n",
    "from src.feature_engineering import (\n",
    "    extract_gas_emissions, \n",
    "    calculate_gas_stats, \n",
    "    calculate_proportions, \n",
    "    create_target, \n",
    "    add_dataset1_features\n",
    ")\n",
    "from src import feature_engineering\n",
    "\n",
    "importlib.reload(feature_engineering)"
   ],
   "id": "991e73036928725c",
   "outputs": [
    {
     "data": {
      "text/plain": [
       "<module 'src.feature_engineering' from '/Users/dzjuca/Downloads/t4/t4_proyecto/src/feature_engineering.py'>"
      ]
     },
     "execution_count": 1,
     "metadata": {},
     "output_type": "execute_result"
    }
   ],
   "execution_count": 1
  },
  {
   "metadata": {},
   "cell_type": "markdown",
   "source": "#### 2.1 Lectura de datos provenientes del EDA",
   "id": "130d173cb561afd2"
  },
  {
   "metadata": {
    "ExecuteTime": {
     "end_time": "2025-10-14T18:03:23.276560Z",
     "start_time": "2025-10-14T18:03:23.134215Z"
    }
   },
   "cell_type": "code",
   "source": [
    "df1 = pd.read_csv('datos/df1_toFeatures.csv')\n",
    "df2 = pd.read_csv('datos/df2_toFeatures.csv')\n",
    "print(f\"Dataset 1: {df1.shape}\")\n",
    "print(f\"Dataset 2: {df2.shape}\")"
   ],
   "id": "a2b2f930867c41ca",
   "outputs": [
    {
     "name": "stdout",
     "output_type": "stream",
     "text": [
      "Dataset 1: (1016, 8)\n",
      "Dataset 2: (18288, 8)\n"
     ]
    }
   ],
   "execution_count": 2
  },
  {
   "metadata": {},
   "cell_type": "markdown",
   "source": "#### 2.2 Extraer Emisiones por Gas desde Dataset 2",
   "id": "415ae2fc91a41084"
  },
  {
   "metadata": {
    "ExecuteTime": {
     "end_time": "2025-10-14T18:07:58.713750Z",
     "start_time": "2025-10-14T18:07:54.734597Z"
    }
   },
   "cell_type": "code",
   "source": [
    "gas_emissions = extract_gas_emissions(df2)\n",
    "print(f\"✅ Emisiones por gas extraídas: {gas_emissions.shape}\")\n",
    "gas_emissions.head()"
   ],
   "id": "b7e271c24d9b99ca",
   "outputs": [
    {
     "name": "stdout",
     "output_type": "stream",
     "text": [
      "✅ Emisiones por gas extraídas: (1016, 9)\n"
     ]
    },
    {
     "data": {
      "text/plain": [
       "   naics_code  co2_emission  ch4_emission  n2o_emission  hfcs_emission  \\\n",
       "0      111110         0.172      0.013496       0.34450       0.000823   \n",
       "1      111120         0.172      0.013496       0.34450       0.000823   \n",
       "2      111130         0.207      0.111440       0.52735       0.000794   \n",
       "3      111140         0.207      0.111440       0.52735       0.000794   \n",
       "4      111150         0.207      0.111440       0.52735       0.000794   \n",
       "\n",
       "   pfcs_emission  sf6_emission  nf3_emission  hfc_pfc_unspecified  \n",
       "0       0.000143      0.000105      0.000023             0.000844  \n",
       "1       0.000143      0.000105      0.000023             0.000844  \n",
       "2       0.000148      0.000104      0.000023             0.000802  \n",
       "3       0.000148      0.000104      0.000023             0.000802  \n",
       "4       0.000148      0.000104      0.000023             0.000802  "
      ],
      "text/html": [
       "<div>\n",
       "<style scoped>\n",
       "    .dataframe tbody tr th:only-of-type {\n",
       "        vertical-align: middle;\n",
       "    }\n",
       "\n",
       "    .dataframe tbody tr th {\n",
       "        vertical-align: top;\n",
       "    }\n",
       "\n",
       "    .dataframe thead th {\n",
       "        text-align: right;\n",
       "    }\n",
       "</style>\n",
       "<table border=\"1\" class=\"dataframe\">\n",
       "  <thead>\n",
       "    <tr style=\"text-align: right;\">\n",
       "      <th></th>\n",
       "      <th>naics_code</th>\n",
       "      <th>co2_emission</th>\n",
       "      <th>ch4_emission</th>\n",
       "      <th>n2o_emission</th>\n",
       "      <th>hfcs_emission</th>\n",
       "      <th>pfcs_emission</th>\n",
       "      <th>sf6_emission</th>\n",
       "      <th>nf3_emission</th>\n",
       "      <th>hfc_pfc_unspecified</th>\n",
       "    </tr>\n",
       "  </thead>\n",
       "  <tbody>\n",
       "    <tr>\n",
       "      <th>0</th>\n",
       "      <td>111110</td>\n",
       "      <td>0.172</td>\n",
       "      <td>0.013496</td>\n",
       "      <td>0.34450</td>\n",
       "      <td>0.000823</td>\n",
       "      <td>0.000143</td>\n",
       "      <td>0.000105</td>\n",
       "      <td>0.000023</td>\n",
       "      <td>0.000844</td>\n",
       "    </tr>\n",
       "    <tr>\n",
       "      <th>1</th>\n",
       "      <td>111120</td>\n",
       "      <td>0.172</td>\n",
       "      <td>0.013496</td>\n",
       "      <td>0.34450</td>\n",
       "      <td>0.000823</td>\n",
       "      <td>0.000143</td>\n",
       "      <td>0.000105</td>\n",
       "      <td>0.000023</td>\n",
       "      <td>0.000844</td>\n",
       "    </tr>\n",
       "    <tr>\n",
       "      <th>2</th>\n",
       "      <td>111130</td>\n",
       "      <td>0.207</td>\n",
       "      <td>0.111440</td>\n",
       "      <td>0.52735</td>\n",
       "      <td>0.000794</td>\n",
       "      <td>0.000148</td>\n",
       "      <td>0.000104</td>\n",
       "      <td>0.000023</td>\n",
       "      <td>0.000802</td>\n",
       "    </tr>\n",
       "    <tr>\n",
       "      <th>3</th>\n",
       "      <td>111140</td>\n",
       "      <td>0.207</td>\n",
       "      <td>0.111440</td>\n",
       "      <td>0.52735</td>\n",
       "      <td>0.000794</td>\n",
       "      <td>0.000148</td>\n",
       "      <td>0.000104</td>\n",
       "      <td>0.000023</td>\n",
       "      <td>0.000802</td>\n",
       "    </tr>\n",
       "    <tr>\n",
       "      <th>4</th>\n",
       "      <td>111150</td>\n",
       "      <td>0.207</td>\n",
       "      <td>0.111440</td>\n",
       "      <td>0.52735</td>\n",
       "      <td>0.000794</td>\n",
       "      <td>0.000148</td>\n",
       "      <td>0.000104</td>\n",
       "      <td>0.000023</td>\n",
       "      <td>0.000802</td>\n",
       "    </tr>\n",
       "  </tbody>\n",
       "</table>\n",
       "</div>"
      ]
     },
     "execution_count": 3,
     "metadata": {},
     "output_type": "execute_result"
    }
   ],
   "execution_count": 3
  },
  {
   "metadata": {},
   "cell_type": "markdown",
   "source": "#### 2.3 Calcular Estadísticas de Gases",
   "id": "5e7165d9ec4c04ff"
  },
  {
   "metadata": {
    "ExecuteTime": {
     "end_time": "2025-10-14T18:56:25.339386Z",
     "start_time": "2025-10-14T18:56:23.642499Z"
    }
   },
   "cell_type": "code",
   "source": [
    "gas_stats = calculate_gas_stats(gas_emissions)\n",
    "print(f\"✅ Estadísticas calculadas: {gas_stats.shape}\")\n",
    "gas_stats.head()"
   ],
   "id": "afb329a236acc40a",
   "outputs": [
    {
     "name": "stdout",
     "output_type": "stream",
     "text": [
      "✅ Estadísticas calculadas: (1016, 4)\n"
     ]
    },
    {
     "data": {
      "text/plain": [
       "   naics_code  num_gases_emitted dominant_gas  gas_diversity\n",
       "0    111110.0                  3          n2o       0.753590\n",
       "1    111120.0                  3          n2o       0.753590\n",
       "2    111130.0                  3          n2o       0.915637\n",
       "3    111140.0                  3          n2o       0.915637\n",
       "4    111150.0                  3          n2o       0.915637"
      ],
      "text/html": [
       "<div>\n",
       "<style scoped>\n",
       "    .dataframe tbody tr th:only-of-type {\n",
       "        vertical-align: middle;\n",
       "    }\n",
       "\n",
       "    .dataframe tbody tr th {\n",
       "        vertical-align: top;\n",
       "    }\n",
       "\n",
       "    .dataframe thead th {\n",
       "        text-align: right;\n",
       "    }\n",
       "</style>\n",
       "<table border=\"1\" class=\"dataframe\">\n",
       "  <thead>\n",
       "    <tr style=\"text-align: right;\">\n",
       "      <th></th>\n",
       "      <th>naics_code</th>\n",
       "      <th>num_gases_emitted</th>\n",
       "      <th>dominant_gas</th>\n",
       "      <th>gas_diversity</th>\n",
       "    </tr>\n",
       "  </thead>\n",
       "  <tbody>\n",
       "    <tr>\n",
       "      <th>0</th>\n",
       "      <td>111110.0</td>\n",
       "      <td>3</td>\n",
       "      <td>n2o</td>\n",
       "      <td>0.753590</td>\n",
       "    </tr>\n",
       "    <tr>\n",
       "      <th>1</th>\n",
       "      <td>111120.0</td>\n",
       "      <td>3</td>\n",
       "      <td>n2o</td>\n",
       "      <td>0.753590</td>\n",
       "    </tr>\n",
       "    <tr>\n",
       "      <th>2</th>\n",
       "      <td>111130.0</td>\n",
       "      <td>3</td>\n",
       "      <td>n2o</td>\n",
       "      <td>0.915637</td>\n",
       "    </tr>\n",
       "    <tr>\n",
       "      <th>3</th>\n",
       "      <td>111140.0</td>\n",
       "      <td>3</td>\n",
       "      <td>n2o</td>\n",
       "      <td>0.915637</td>\n",
       "    </tr>\n",
       "    <tr>\n",
       "      <th>4</th>\n",
       "      <td>111150.0</td>\n",
       "      <td>3</td>\n",
       "      <td>n2o</td>\n",
       "      <td>0.915637</td>\n",
       "    </tr>\n",
       "  </tbody>\n",
       "</table>\n",
       "</div>"
      ]
     },
     "execution_count": 4,
     "metadata": {},
     "output_type": "execute_result"
    }
   ],
   "execution_count": 4
  },
  {
   "metadata": {},
   "cell_type": "markdown",
   "source": "#### 2.4 Calcular Proporciones de Gases",
   "id": "b25d0e7a36b65c75"
  },
  {
   "metadata": {
    "ExecuteTime": {
     "end_time": "2025-10-14T18:57:53.292635Z",
     "start_time": "2025-10-14T18:57:52.150706Z"
    }
   },
   "cell_type": "code",
   "source": [
    "gas_props = calculate_proportions(gas_emissions)\n",
    "print(f\"✅ Proporciones calculadas: {gas_props.shape}\")\n",
    "gas_props.head()"
   ],
   "id": "e5c5d7878941a9ca",
   "outputs": [
    {
     "name": "stdout",
     "output_type": "stream",
     "text": [
      "✅ Proporciones calculadas: (1016, 4)\n"
     ]
    },
    {
     "data": {
      "text/plain": [
       "   naics_code  co2_proportion  ch4_proportion  n2o_proportion\n",
       "0    111110.0        0.323348        0.025372        0.647637\n",
       "1    111120.0        0.323348        0.025372        0.647637\n",
       "2    111130.0        0.244201        0.131468        0.622124\n",
       "3    111140.0        0.244201        0.131468        0.622124\n",
       "4    111150.0        0.244201        0.131468        0.622124"
      ],
      "text/html": [
       "<div>\n",
       "<style scoped>\n",
       "    .dataframe tbody tr th:only-of-type {\n",
       "        vertical-align: middle;\n",
       "    }\n",
       "\n",
       "    .dataframe tbody tr th {\n",
       "        vertical-align: top;\n",
       "    }\n",
       "\n",
       "    .dataframe thead th {\n",
       "        text-align: right;\n",
       "    }\n",
       "</style>\n",
       "<table border=\"1\" class=\"dataframe\">\n",
       "  <thead>\n",
       "    <tr style=\"text-align: right;\">\n",
       "      <th></th>\n",
       "      <th>naics_code</th>\n",
       "      <th>co2_proportion</th>\n",
       "      <th>ch4_proportion</th>\n",
       "      <th>n2o_proportion</th>\n",
       "    </tr>\n",
       "  </thead>\n",
       "  <tbody>\n",
       "    <tr>\n",
       "      <th>0</th>\n",
       "      <td>111110.0</td>\n",
       "      <td>0.323348</td>\n",
       "      <td>0.025372</td>\n",
       "      <td>0.647637</td>\n",
       "    </tr>\n",
       "    <tr>\n",
       "      <th>1</th>\n",
       "      <td>111120.0</td>\n",
       "      <td>0.323348</td>\n",
       "      <td>0.025372</td>\n",
       "      <td>0.647637</td>\n",
       "    </tr>\n",
       "    <tr>\n",
       "      <th>2</th>\n",
       "      <td>111130.0</td>\n",
       "      <td>0.244201</td>\n",
       "      <td>0.131468</td>\n",
       "      <td>0.622124</td>\n",
       "    </tr>\n",
       "    <tr>\n",
       "      <th>3</th>\n",
       "      <td>111140.0</td>\n",
       "      <td>0.244201</td>\n",
       "      <td>0.131468</td>\n",
       "      <td>0.622124</td>\n",
       "    </tr>\n",
       "    <tr>\n",
       "      <th>4</th>\n",
       "      <td>111150.0</td>\n",
       "      <td>0.244201</td>\n",
       "      <td>0.131468</td>\n",
       "      <td>0.622124</td>\n",
       "    </tr>\n",
       "  </tbody>\n",
       "</table>\n",
       "</div>"
      ]
     },
     "execution_count": 5,
     "metadata": {},
     "output_type": "execute_result"
    }
   ],
   "execution_count": 5
  },
  {
   "metadata": {},
   "cell_type": "markdown",
   "source": [
    "\n",
    "\n",
    "#### 2.5 Agregar Features desde Dataset 1"
   ],
   "id": "fcaa7e8c53096fe0"
  },
  {
   "metadata": {
    "ExecuteTime": {
     "end_time": "2025-10-14T19:00:39.006375Z",
     "start_time": "2025-10-14T19:00:38.965501Z"
    }
   },
   "cell_type": "code",
   "source": [
    "df1 = add_dataset1_features(df1)\n",
    "print(f\"✅ Features de Dataset 1 agregados\")\n",
    "df1[['naics_code', 'sef_mef_ratio', 'naics_2dig']].head()"
   ],
   "id": "fc434cadeb24184",
   "outputs": [
    {
     "name": "stdout",
     "output_type": "stream",
     "text": [
      "✅ Features de Dataset 1 agregados\n"
     ]
    },
    {
     "data": {
      "text/plain": [
       "   naics_code  sef_mef_ratio naics_2dig\n",
       "0      111110      11.090909         11\n",
       "1      111120      11.090909         11\n",
       "2      111130      20.225000         11\n",
       "3      111140      20.225000         11\n",
       "4      111150      20.225000         11"
      ],
      "text/html": [
       "<div>\n",
       "<style scoped>\n",
       "    .dataframe tbody tr th:only-of-type {\n",
       "        vertical-align: middle;\n",
       "    }\n",
       "\n",
       "    .dataframe tbody tr th {\n",
       "        vertical-align: top;\n",
       "    }\n",
       "\n",
       "    .dataframe thead th {\n",
       "        text-align: right;\n",
       "    }\n",
       "</style>\n",
       "<table border=\"1\" class=\"dataframe\">\n",
       "  <thead>\n",
       "    <tr style=\"text-align: right;\">\n",
       "      <th></th>\n",
       "      <th>naics_code</th>\n",
       "      <th>sef_mef_ratio</th>\n",
       "      <th>naics_2dig</th>\n",
       "    </tr>\n",
       "  </thead>\n",
       "  <tbody>\n",
       "    <tr>\n",
       "      <th>0</th>\n",
       "      <td>111110</td>\n",
       "      <td>11.090909</td>\n",
       "      <td>11</td>\n",
       "    </tr>\n",
       "    <tr>\n",
       "      <th>1</th>\n",
       "      <td>111120</td>\n",
       "      <td>11.090909</td>\n",
       "      <td>11</td>\n",
       "    </tr>\n",
       "    <tr>\n",
       "      <th>2</th>\n",
       "      <td>111130</td>\n",
       "      <td>20.225000</td>\n",
       "      <td>11</td>\n",
       "    </tr>\n",
       "    <tr>\n",
       "      <th>3</th>\n",
       "      <td>111140</td>\n",
       "      <td>20.225000</td>\n",
       "      <td>11</td>\n",
       "    </tr>\n",
       "    <tr>\n",
       "      <th>4</th>\n",
       "      <td>111150</td>\n",
       "      <td>20.225000</td>\n",
       "      <td>11</td>\n",
       "    </tr>\n",
       "  </tbody>\n",
       "</table>\n",
       "</div>"
      ]
     },
     "execution_count": 10,
     "metadata": {},
     "output_type": "execute_result"
    }
   ],
   "execution_count": 10
  },
  {
   "metadata": {},
   "cell_type": "markdown",
   "source": [
    "\n",
    "#### 2.6 Crear Variable Objetivo"
   ],
   "id": "dc120ceb46c44b65"
  },
  {
   "metadata": {
    "ExecuteTime": {
     "end_time": "2025-10-14T19:02:59.088789Z",
     "start_time": "2025-10-14T19:02:59.048011Z"
    }
   },
   "cell_type": "code",
   "source": [
    "df1 = create_target(df1)\n",
    "print(f\"✅ Variable objetivo creada\")\n",
    "print(\"\\nDistribución de clases:\")\n",
    "print(df1['impact_class'].value_counts().sort_index())"
   ],
   "id": "9ebe0ccb33cd3cd1",
   "outputs": [
    {
     "name": "stdout",
     "output_type": "stream",
     "text": [
      "✅ Variable objetivo creada\n",
      "\n",
      "Distribución de clases:\n",
      "impact_class\n",
      "0    277\n",
      "1    233\n",
      "2    252\n",
      "3    254\n",
      "Name: count, dtype: int64\n"
     ]
    }
   ],
   "execution_count": 11
  },
  {
   "metadata": {},
   "cell_type": "markdown",
   "source": "#### 2.7 Unir Todos los Features",
   "id": "ed2d5394ca9e9371"
  },
  {
   "metadata": {
    "ExecuteTime": {
     "end_time": "2025-10-14T19:06:41.350138Z",
     "start_time": "2025-10-14T19:06:41.239614Z"
    }
   },
   "cell_type": "code",
   "source": [
    "df_enriched = df1[['naics_code', 'naics_title', 'naics_2dig', 'sef_mef_ratio', 'impact_class']].copy()\n",
    "df_enriched = df_enriched.merge(gas_emissions, on='naics_code')\n",
    "df_enriched = df_enriched.merge(gas_stats, on='naics_code')\n",
    "df_enriched = df_enriched.merge(gas_props, on='naics_code')\n",
    "\n",
    "print(f\"✅ Dataset enriquecido: {df_enriched.shape}\")\n",
    "df_enriched.head()"
   ],
   "id": "beafa2d1e7fdb0c0",
   "outputs": [
    {
     "name": "stdout",
     "output_type": "stream",
     "text": [
      "✅ Dataset enriquecido: (1016, 19)\n"
     ]
    },
    {
     "data": {
      "text/plain": [
       "   naics_code                       naics_title naics_2dig  sef_mef_ratio  \\\n",
       "0      111110                   Soybean Farming         11      11.090909   \n",
       "1      111120  Oilseed (except Soybean) Farming         11      11.090909   \n",
       "2      111130          Dry Pea and Bean Farming         11      20.225000   \n",
       "3      111140                     Wheat Farming         11      20.225000   \n",
       "4      111150                      Corn Farming         11      20.225000   \n",
       "\n",
       "  impact_class  co2_emission  ch4_emission  n2o_emission  hfcs_emission  \\\n",
       "0            3         0.172      0.013496       0.34450       0.000823   \n",
       "1            3         0.172      0.013496       0.34450       0.000823   \n",
       "2            3         0.207      0.111440       0.52735       0.000794   \n",
       "3            3         0.207      0.111440       0.52735       0.000794   \n",
       "4            3         0.207      0.111440       0.52735       0.000794   \n",
       "\n",
       "   pfcs_emission  sf6_emission  nf3_emission  hfc_pfc_unspecified  \\\n",
       "0       0.000143      0.000105      0.000023             0.000844   \n",
       "1       0.000143      0.000105      0.000023             0.000844   \n",
       "2       0.000148      0.000104      0.000023             0.000802   \n",
       "3       0.000148      0.000104      0.000023             0.000802   \n",
       "4       0.000148      0.000104      0.000023             0.000802   \n",
       "\n",
       "   num_gases_emitted dominant_gas  gas_diversity  co2_proportion  \\\n",
       "0                  3          n2o       0.753590        0.323348   \n",
       "1                  3          n2o       0.753590        0.323348   \n",
       "2                  3          n2o       0.915637        0.244201   \n",
       "3                  3          n2o       0.915637        0.244201   \n",
       "4                  3          n2o       0.915637        0.244201   \n",
       "\n",
       "   ch4_proportion  n2o_proportion  \n",
       "0        0.025372        0.647637  \n",
       "1        0.025372        0.647637  \n",
       "2        0.131468        0.622124  \n",
       "3        0.131468        0.622124  \n",
       "4        0.131468        0.622124  "
      ],
      "text/html": [
       "<div>\n",
       "<style scoped>\n",
       "    .dataframe tbody tr th:only-of-type {\n",
       "        vertical-align: middle;\n",
       "    }\n",
       "\n",
       "    .dataframe tbody tr th {\n",
       "        vertical-align: top;\n",
       "    }\n",
       "\n",
       "    .dataframe thead th {\n",
       "        text-align: right;\n",
       "    }\n",
       "</style>\n",
       "<table border=\"1\" class=\"dataframe\">\n",
       "  <thead>\n",
       "    <tr style=\"text-align: right;\">\n",
       "      <th></th>\n",
       "      <th>naics_code</th>\n",
       "      <th>naics_title</th>\n",
       "      <th>naics_2dig</th>\n",
       "      <th>sef_mef_ratio</th>\n",
       "      <th>impact_class</th>\n",
       "      <th>co2_emission</th>\n",
       "      <th>ch4_emission</th>\n",
       "      <th>n2o_emission</th>\n",
       "      <th>hfcs_emission</th>\n",
       "      <th>pfcs_emission</th>\n",
       "      <th>sf6_emission</th>\n",
       "      <th>nf3_emission</th>\n",
       "      <th>hfc_pfc_unspecified</th>\n",
       "      <th>num_gases_emitted</th>\n",
       "      <th>dominant_gas</th>\n",
       "      <th>gas_diversity</th>\n",
       "      <th>co2_proportion</th>\n",
       "      <th>ch4_proportion</th>\n",
       "      <th>n2o_proportion</th>\n",
       "    </tr>\n",
       "  </thead>\n",
       "  <tbody>\n",
       "    <tr>\n",
       "      <th>0</th>\n",
       "      <td>111110</td>\n",
       "      <td>Soybean Farming</td>\n",
       "      <td>11</td>\n",
       "      <td>11.090909</td>\n",
       "      <td>3</td>\n",
       "      <td>0.172</td>\n",
       "      <td>0.013496</td>\n",
       "      <td>0.34450</td>\n",
       "      <td>0.000823</td>\n",
       "      <td>0.000143</td>\n",
       "      <td>0.000105</td>\n",
       "      <td>0.000023</td>\n",
       "      <td>0.000844</td>\n",
       "      <td>3</td>\n",
       "      <td>n2o</td>\n",
       "      <td>0.753590</td>\n",
       "      <td>0.323348</td>\n",
       "      <td>0.025372</td>\n",
       "      <td>0.647637</td>\n",
       "    </tr>\n",
       "    <tr>\n",
       "      <th>1</th>\n",
       "      <td>111120</td>\n",
       "      <td>Oilseed (except Soybean) Farming</td>\n",
       "      <td>11</td>\n",
       "      <td>11.090909</td>\n",
       "      <td>3</td>\n",
       "      <td>0.172</td>\n",
       "      <td>0.013496</td>\n",
       "      <td>0.34450</td>\n",
       "      <td>0.000823</td>\n",
       "      <td>0.000143</td>\n",
       "      <td>0.000105</td>\n",
       "      <td>0.000023</td>\n",
       "      <td>0.000844</td>\n",
       "      <td>3</td>\n",
       "      <td>n2o</td>\n",
       "      <td>0.753590</td>\n",
       "      <td>0.323348</td>\n",
       "      <td>0.025372</td>\n",
       "      <td>0.647637</td>\n",
       "    </tr>\n",
       "    <tr>\n",
       "      <th>2</th>\n",
       "      <td>111130</td>\n",
       "      <td>Dry Pea and Bean Farming</td>\n",
       "      <td>11</td>\n",
       "      <td>20.225000</td>\n",
       "      <td>3</td>\n",
       "      <td>0.207</td>\n",
       "      <td>0.111440</td>\n",
       "      <td>0.52735</td>\n",
       "      <td>0.000794</td>\n",
       "      <td>0.000148</td>\n",
       "      <td>0.000104</td>\n",
       "      <td>0.000023</td>\n",
       "      <td>0.000802</td>\n",
       "      <td>3</td>\n",
       "      <td>n2o</td>\n",
       "      <td>0.915637</td>\n",
       "      <td>0.244201</td>\n",
       "      <td>0.131468</td>\n",
       "      <td>0.622124</td>\n",
       "    </tr>\n",
       "    <tr>\n",
       "      <th>3</th>\n",
       "      <td>111140</td>\n",
       "      <td>Wheat Farming</td>\n",
       "      <td>11</td>\n",
       "      <td>20.225000</td>\n",
       "      <td>3</td>\n",
       "      <td>0.207</td>\n",
       "      <td>0.111440</td>\n",
       "      <td>0.52735</td>\n",
       "      <td>0.000794</td>\n",
       "      <td>0.000148</td>\n",
       "      <td>0.000104</td>\n",
       "      <td>0.000023</td>\n",
       "      <td>0.000802</td>\n",
       "      <td>3</td>\n",
       "      <td>n2o</td>\n",
       "      <td>0.915637</td>\n",
       "      <td>0.244201</td>\n",
       "      <td>0.131468</td>\n",
       "      <td>0.622124</td>\n",
       "    </tr>\n",
       "    <tr>\n",
       "      <th>4</th>\n",
       "      <td>111150</td>\n",
       "      <td>Corn Farming</td>\n",
       "      <td>11</td>\n",
       "      <td>20.225000</td>\n",
       "      <td>3</td>\n",
       "      <td>0.207</td>\n",
       "      <td>0.111440</td>\n",
       "      <td>0.52735</td>\n",
       "      <td>0.000794</td>\n",
       "      <td>0.000148</td>\n",
       "      <td>0.000104</td>\n",
       "      <td>0.000023</td>\n",
       "      <td>0.000802</td>\n",
       "      <td>3</td>\n",
       "      <td>n2o</td>\n",
       "      <td>0.915637</td>\n",
       "      <td>0.244201</td>\n",
       "      <td>0.131468</td>\n",
       "      <td>0.622124</td>\n",
       "    </tr>\n",
       "  </tbody>\n",
       "</table>\n",
       "</div>"
      ]
     },
     "execution_count": 12,
     "metadata": {},
     "output_type": "execute_result"
    }
   ],
   "execution_count": 12
  },
  {
   "metadata": {},
   "cell_type": "markdown",
   "source": [
    "\n",
    "\n",
    "#### 2.8 Validación de Features Creados"
   ],
   "id": "d6c2941c77fbd7d2"
  },
  {
   "metadata": {},
   "cell_type": "markdown",
   "source": [
    "\n",
    "\n",
    "#### Verificar valores nulos"
   ],
   "id": "6dd08599f8c1f17e"
  },
  {
   "metadata": {
    "ExecuteTime": {
     "end_time": "2025-10-14T23:43:25.576747Z",
     "start_time": "2025-10-14T23:43:25.526487Z"
    }
   },
   "cell_type": "code",
   "source": [
    "print(\"Valores nulos por columna:\")\n",
    "print(df_enriched.isnull().sum())"
   ],
   "id": "551b67ee0e3efd58",
   "outputs": [
    {
     "name": "stdout",
     "output_type": "stream",
     "text": [
      "Valores nulos por columna:\n",
      "naics_code             0\n",
      "naics_title            0\n",
      "naics_2dig             0\n",
      "sef_mef_ratio          0\n",
      "impact_class           0\n",
      "co2_emission           0\n",
      "ch4_emission           0\n",
      "n2o_emission           0\n",
      "hfcs_emission          0\n",
      "pfcs_emission          0\n",
      "sf6_emission           0\n",
      "nf3_emission           0\n",
      "hfc_pfc_unspecified    0\n",
      "num_gases_emitted      0\n",
      "dominant_gas           0\n",
      "gas_diversity          0\n",
      "co2_proportion         0\n",
      "ch4_proportion         0\n",
      "n2o_proportion         0\n",
      "dtype: int64\n"
     ]
    }
   ],
   "execution_count": 13
  },
  {
   "metadata": {},
   "cell_type": "markdown",
   "source": "#### Verificar balance de clases",
   "id": "198f67281995933e"
  },
  {
   "metadata": {
    "ExecuteTime": {
     "end_time": "2025-10-14T23:43:35.540620Z",
     "start_time": "2025-10-14T23:43:35.524162Z"
    }
   },
   "cell_type": "code",
   "source": [
    "print(\"\\nDistribución de clases:\")\n",
    "print(df_enriched['impact_class'].value_counts().sort_index())"
   ],
   "id": "ff9554d4fc68eb27",
   "outputs": [
    {
     "name": "stdout",
     "output_type": "stream",
     "text": [
      "\n",
      "Distribución de clases:\n",
      "impact_class\n",
      "0    277\n",
      "1    233\n",
      "2    252\n",
      "3    254\n",
      "Name: count, dtype: int64\n"
     ]
    }
   ],
   "execution_count": 14
  },
  {
   "metadata": {},
   "cell_type": "markdown",
   "source": [
    "\n",
    "#### Estadísticas de emisiones por gas"
   ],
   "id": "4892abc7b0cc51bf"
  },
  {
   "metadata": {
    "ExecuteTime": {
     "end_time": "2025-10-14T23:51:10.012901Z",
     "start_time": "2025-10-14T23:51:09.940895Z"
    }
   },
   "cell_type": "code",
   "source": [
    "emission_cols = [col for col in df_enriched.columns if col.endswith('_emission')]\n",
    "print(\"\\nEstadísticas de emisiones (kg CO2e/USD):\")\n",
    "print(df_enriched[emission_cols].describe())"
   ],
   "id": "10c777164f3ec164",
   "outputs": [
    {
     "name": "stdout",
     "output_type": "stream",
     "text": [
      "\n",
      "Estadísticas de emisiones (kg CO2e/USD):\n",
      "       co2_emission  ch4_emission  n2o_emission  hfcs_emission  pfcs_emission  \\\n",
      "count   1016.000000   1016.000000   1016.000000    1016.000000    1016.000000   \n",
      "mean       0.194926      0.046752      0.035035       0.002069       0.000713   \n",
      "std        0.210354      0.145747      0.100636       0.004610       0.003876   \n",
      "min        0.025000      0.001481      0.000710       0.000206       0.000018   \n",
      "25%        0.089900      0.009240      0.003233       0.000937       0.000127   \n",
      "50%        0.137000      0.013384      0.005234       0.001258       0.000196   \n",
      "75%        0.219500      0.023660      0.012091       0.001738       0.000429   \n",
      "max        3.860000      1.629600      1.020250       0.088102       0.080555   \n",
      "\n",
      "       sf6_emission  nf3_emission  \n",
      "count   1016.000000   1016.000000  \n",
      "mean       0.000378      0.000063  \n",
      "std        0.000638      0.000410  \n",
      "min        0.000024      0.000002  \n",
      "25%        0.000157      0.000015  \n",
      "50%        0.000229      0.000024  \n",
      "75%        0.000350      0.000046  \n",
      "max        0.008225      0.006698  \n"
     ]
    }
   ],
   "execution_count": 17
  },
  {
   "metadata": {},
   "cell_type": "markdown",
   "source": "#### 2.9 Análisis de Correlaciones",
   "id": "98335705bf2b3246"
  },
  {
   "metadata": {},
   "cell_type": "markdown",
   "source": "#### Matriz de correlación de features numéricos",
   "id": "56735e7a7c75414c"
  },
  {
   "metadata": {
    "ExecuteTime": {
     "end_time": "2025-10-15T00:11:40.920038Z",
     "start_time": "2025-10-15T00:11:40.911659Z"
    }
   },
   "cell_type": "code",
   "source": [
    "numeric_cols = df_enriched.select_dtypes(include=[np.number]).columns.tolist()\n",
    "numeric_cols.remove('naics_code')\n",
    "# numeric_cols.remove('impact_class')\n",
    "\n",
    "corr_matrix = df_enriched[numeric_cols].corr()"
   ],
   "id": "7aa572a832ddd4d",
   "outputs": [],
   "execution_count": 27
  },
  {
   "metadata": {
    "ExecuteTime": {
     "end_time": "2025-10-15T00:11:44.350651Z",
     "start_time": "2025-10-15T00:11:42.555804Z"
    }
   },
   "cell_type": "code",
   "source": [
    "plt.figure(figsize=(12, 10))\n",
    "sns.heatmap(corr_matrix, annot=False, cmap='coolwarm', center=0)\n",
    "plt.title('Correlación entre Features')\n",
    "plt.tight_layout()\n",
    "plt.show()"
   ],
   "id": "2b2acc0921dd6730",
   "outputs": [
    {
     "data": {
      "text/plain": [
       "<Figure size 1200x1000 with 2 Axes>"
      ],
      "image/png": "[encoded data removed]"
     },
     "metadata": {},
     "output_type": "display_data"
    }
   ],
   "execution_count": 28
  },
  {
   "metadata": {},
   "cell_type": "markdown",
   "source": "#### Top correlaciones",
   "id": "d3a5541d871afa89"
  },
  {
   "metadata": {
    "ExecuteTime": {
     "end_time": "2025-10-15T00:13:25.999117Z",
     "start_time": "2025-10-15T00:13:25.954366Z"
    }
   },
   "cell_type": "code",
   "source": [
    "corr_pairs = corr_matrix.unstack()\n",
    "corr_pairs = corr_pairs[corr_pairs < 1.0]\n",
    "print(\"\\nTop 10 correlaciones más altas:\")\n",
    "print(corr_pairs.abs().sort_values(ascending=False).head(10))"
   ],
   "id": "18a123849a81c398",
   "outputs": [
    {
     "name": "stdout",
     "output_type": "stream",
     "text": [
      "\n",
      "Top 10 correlaciones más altas:\n",
      "ch4_emission         ch4_proportion         0.846128\n",
      "ch4_proportion       ch4_emission           0.846128\n",
      "n2o_proportion       n2o_emission           0.829248\n",
      "n2o_emission         n2o_proportion         0.829248\n",
      "gas_diversity        co2_proportion         0.804125\n",
      "co2_proportion       gas_diversity          0.804125\n",
      "hfc_pfc_unspecified  hfcs_emission          0.790212\n",
      "hfcs_emission        hfc_pfc_unspecified    0.790212\n",
      "co2_proportion       n2o_proportion         0.770653\n",
      "n2o_proportion       co2_proportion         0.770653\n",
      "dtype: float64\n"
     ]
    }
   ],
   "execution_count": 31
  },
  {
   "metadata": {},
   "cell_type": "markdown",
   "source": [
    "\n",
    "#### 2.10 Distribución de Features Clave"
   ],
   "id": "1fafd1c187754389"
  },
  {
   "metadata": {
    "ExecuteTime": {
     "end_time": "2025-10-15T00:23:28.539185Z",
     "start_time": "2025-10-15T00:23:25.864609Z"
    }
   },
   "cell_type": "code",
   "source": [
    "fig, axes = plt.subplots(2, 2, figsize=(14, 10))\n",
    "\n",
    "# Gas dominante\n",
    "df_enriched['dominant_gas'].value_counts().plot(kind='barh', ax=axes[0,0])\n",
    "axes[0,0].set_title('Distribución de Gas Dominante')\n",
    "\n",
    "# Diversidad de gases\n",
    "df_enriched['gas_diversity'].hist(bins=30, ax=axes[0,1])\n",
    "axes[0,1].set_title('Diversidad de Gases (Shannon)')\n",
    "\n",
    "# Número de gases\n",
    "df_enriched['num_gases_emitted'].value_counts().sort_index().plot(kind='bar', ax=axes[1,0])\n",
    "axes[1,0].set_title('Número de Gases Emitidos')\n",
    "\n",
    "# Ratio SEF/MEF\n",
    "df_enriched['sef_mef_ratio'].hist(bins=30, ax=axes[1,1])\n",
    "axes[1,1].set_title('Ratio SEF/MEF')\n",
    "\n",
    "plt.tight_layout()\n",
    "plt.show()"
   ],
   "id": "2f7a901efb463214",
   "outputs": [
    {
     "data": {
      "text/plain": [
       "<Figure size 1400x1000 with 4 Axes>"
      ],
      "image/png": "[encoded data removed]"
     },
     "metadata": {},
     "output_type": "display_data"
    }
   ],
   "execution_count": 33
  },
  {
   "metadata": {},
   "cell_type": "markdown",
   "source": [
    "\n",
    "\n",
    "#### 2.11 Proporciones de Gases por Clase"
   ],
   "id": "a9deae74005bbf48"
  },
  {
   "metadata": {
    "ExecuteTime": {
     "end_time": "2025-10-15T00:51:26.380514Z",
     "start_time": "2025-10-15T00:51:25.409596Z"
    }
   },
   "cell_type": "code",
   "source": [
    "props = df_enriched.groupby('impact_class', observed=True)[['co2_proportion', 'ch4_proportion', 'n2o_proportion']].mean()\n",
    "\n",
    "props.plot(kind='bar', figsize=(10, 6))\n",
    "plt.title('Proporción Promedio de Gases por Clase de Impacto')\n",
    "plt.xlabel('Clase de Impacto')\n",
    "plt.ylabel('Proporción')\n",
    "plt.legend(title='Gas', labels=['CO2', 'CH4', 'N2O'])\n",
    "plt.tight_layout()\n",
    "plt.show()"
   ],
   "id": "862bb7ff446c8f83",
   "outputs": [
    {
     "data": {
      "text/plain": [
       "<Figure size 1000x600 with 1 Axes>"
      ],
      "image/png": "[encoded data removed]"
     },
     "metadata": {},
     "output_type": "display_data"
    }
   ],
   "execution_count": 38
  },
  {
   "metadata": {},
   "cell_type": "markdown",
   "source": [
    "### Decisión: Eliminación de Proporciones\n",
    "\n",
    "Aunque las proporciones muestran patrones interesantes por clase, se decidió **eliminarlas del modelado** por:\n",
    "- Alta correlación con emisiones absolutas (0.77-0.85)\n",
    "- `gas_diversity` ya captura la dispersión de gases\n",
    "- `dominant_gas` ya indica el gas principal\n",
    "- Evitar multicolinealidad y overfitting"
   ],
   "id": "23631a96e615ea1e"
  },
  {
   "metadata": {},
   "cell_type": "markdown",
   "source": "#### 2.12 Guardar Dataset Final",
   "id": "674dbfffc2a8b85f"
  },
  {
   "cell_type": "code",
   "id": "initial_id",
   "metadata": {
    "collapsed": true,
    "ExecuteTime": {
     "end_time": "2025-10-15T00:52:06.226588Z",
     "start_time": "2025-10-15T00:52:06.153531Z"
    }
   },
   "source": [
    "# Seleccionar columnas para modelado (SIN proporciones)\n",
    "features_for_modeling = [\n",
    "    'naics_2dig',\n",
    "    'sef_mef_ratio',\n",
    "    'co2_emission', 'ch4_emission', 'n2o_emission',\n",
    "    'hfcs_emission', 'pfcs_emission', 'sf6_emission', \n",
    "    'nf3_emission', 'hfc_pfc_unspecified',\n",
    "    'num_gases_emitted', 'gas_diversity', 'dominant_gas',\n",
    "    'impact_class'\n",
    "]\n",
    "\n",
    "df_modeling = df_enriched[['naics_code', 'naics_title'] + features_for_modeling].copy()\n",
    "\n",
    "# Guardar\n",
    "df_modeling.to_csv('datos/dataset_for_modeling.csv', index=False)\n",
    "print(f\"✅ Dataset guardado: {df_modeling.shape}\")\n",
    "print(f\"📊 Features: {len(features_for_modeling)-1}, Target: impact_class\")"
   ],
   "outputs": [
    {
     "name": "stdout",
     "output_type": "stream",
     "text": [
      "✅ Dataset guardado: (1016, 16)\n",
      "📊 Features: 13, Target: impact_class\n"
     ]
    }
   ],
   "execution_count": 40
  }
 ],
 "metadata": {
  "kernelspec": {
   "display_name": "Python 3",
   "language": "python",
   "name": "python3"
  },
  "language_info": {
   "codemirror_mode": {
    "name": "ipython",
    "version": 2
   },
   "file_extension": ".py",
   "mimetype": "text/x-python",
   "name": "python",
   "nbconvert_exporter": "python",
   "pygments_lexer": "ipython2",
   "version": "2.7.6"
  }
 },
 "nbformat": 4,
 "nbformat_minor": 5
}
