{
 "cells": [
  {
   "metadata": {},
   "cell_type": "markdown",
   "source": "#### 3. - MODELADO DE CLASIFICACIÓN DE EMISIONES GEI",
   "id": "94dc1fcde5a6675e"
  },
  {
   "metadata": {},
   "cell_type": "markdown",
   "source": [
    "- Objetivo: Entrenar y evaluar 4 modelos de clasificación para predecir \n",
    "  el nivel de impacto ambiental de sectores NAICS.\n",
    "\n",
    "- Modelos:\n",
    "    1. Logistic Regression (con scaling)\n",
    "    2. K-Nearest Neighbors (con scaling)\n",
    "    3. Decision Tree (sin scaling)\n",
    "    4. Random Forest (sin scaling)"
   ],
   "id": "aba33c67031854ea"
  },
  {
   "metadata": {},
   "cell_type": "markdown",
   "source": "#### 3.0 Imports",
   "id": "faa2b557b71bbc94"
  },
  {
   "metadata": {
    "ExecuteTime": {
     "end_time": "2025-10-15T02:31:47.921755Z",
     "start_time": "2025-10-15T02:31:47.010159Z"
    }
   },
   "cell_type": "code",
   "source": [
    "import sys\n",
    "import importlib\n",
    "import pandas as pd\n",
    "import numpy as np\n",
    "import matplotlib.pyplot as plt\n",
    "import seaborn as sns\n",
    "import warnings\n",
    "from src.modeling import (\n",
    "    prepare_data,\n",
    "    encode_categorical_features,\n",
    "    scale_features,\n",
    "    train_logistic_regression,\n",
    "    train_knn,\n",
    "    train_decision_tree,\n",
    "    train_random_forest,\n",
    "    evaluate_model,\n",
    "    compare_models,\n",
    "    plot_confusion_matrices,\n",
    "    plot_metrics_comparison,\n",
    "    get_feature_importance,\n",
    "    plot_feature_importance,\n",
    "    save_model\n",
    ")\n",
    "from src import modeling\n",
    "\n",
    "importlib.reload(modeling)\n",
    "warnings.filterwarnings('ignore')\n",
    "sys.path.append('../src')\n",
    "plt.style.use('seaborn-v0_8-darkgrid')\n",
    "sns.set_palette('husl')\n",
    "\n",
    "print(\"✅ Librerías importadas correctamente\")"
   ],
   "id": "f717d27e08f9f004",
   "outputs": [
    {
     "name": "stdout",
     "output_type": "stream",
     "text": [
      "✅ Librerías importadas correctamente\n"
     ]
    }
   ],
   "execution_count": 1
  },
  {
   "metadata": {},
   "cell_type": "markdown",
   "source": "#### 3.1 Cargar Dataset",
   "id": "64ec4214d5061cfc"
  },
  {
   "metadata": {
    "ExecuteTime": {
     "end_time": "2025-10-15T03:19:47.021731Z",
     "start_time": "2025-10-15T03:19:46.812291Z"
    }
   },
   "cell_type": "code",
   "source": [
    "df = pd.read_csv('datos/dataset_for_modeling.csv')\n",
    "\n",
    "print(\"=\"*70)\n",
    "print(\"📊 DATASET CARGADO\")\n",
    "print(\"=\"*70)\n",
    "print(f\"\\n🔢 Dimensiones: {df.shape[0]} filas × {df.shape[1]} columnas\")\n",
    "print(f\"\\n📋 Columnas:\")\n",
    "print(df.columns.tolist())\n",
    "print(f\"\\n🎯 Distribución de clases:\")\n",
    "print(df['impact_class'].value_counts().sort_index())\n",
    "print(f\"\\n👀 Primeras 5 filas:\")\n",
    "df.head()"
   ],
   "id": "dd35665936057456",
   "outputs": [
    {
     "name": "stdout",
     "output_type": "stream",
     "text": [
      "======================================================================\n",
      "📊 DATASET CARGADO\n",
      "======================================================================\n",
      "\n",
      "🔢 Dimensiones: 1016 filas × 16 columnas\n",
      "\n",
      "📋 Columnas:\n",
      "['naics_code', 'naics_title', 'naics_2dig', 'sef_mef_ratio', 'co2_emission', 'ch4_emission', 'n2o_emission', 'hfcs_emission', 'pfcs_emission', 'sf6_emission', 'nf3_emission', 'hfc_pfc_unspecified', 'num_gases_emitted', 'gas_diversity', 'dominant_gas', 'impact_class']\n",
      "\n",
      "🎯 Distribución de clases:\n",
      "impact_class\n",
      "0    277\n",
      "1    233\n",
      "2    252\n",
      "3    254\n",
      "Name: count, dtype: int64\n",
      "\n",
      "👀 Primeras 5 filas:\n"
     ]
    },
    {
     "data": {
      "text/plain": [
       "   naics_code                       naics_title  naics_2dig  sef_mef_ratio  \\\n",
       "0      111110                   Soybean Farming          11      11.090909   \n",
       "1      111120  Oilseed (except Soybean) Farming          11      11.090909   \n",
       "2      111130          Dry Pea and Bean Farming          11      20.225000   \n",
       "3      111140                     Wheat Farming          11      20.225000   \n",
       "4      111150                      Corn Farming          11      20.225000   \n",
       "\n",
       "   co2_emission  ch4_emission  n2o_emission  hfcs_emission  pfcs_emission  \\\n",
       "0         0.172      0.013496       0.34450       0.000823       0.000143   \n",
       "1         0.172      0.013496       0.34450       0.000823       0.000143   \n",
       "2         0.207      0.111440       0.52735       0.000794       0.000148   \n",
       "3         0.207      0.111440       0.52735       0.000794       0.000148   \n",
       "4         0.207      0.111440       0.52735       0.000794       0.000148   \n",
       "\n",
       "   sf6_emission  nf3_emission  hfc_pfc_unspecified  num_gases_emitted  \\\n",
       "0      0.000105      0.000023             0.000844                  3   \n",
       "1      0.000105      0.000023             0.000844                  3   \n",
       "2      0.000104      0.000023             0.000802                  3   \n",
       "3      0.000104      0.000023             0.000802                  3   \n",
       "4      0.000104      0.000023             0.000802                  3   \n",
       "\n",
       "   gas_diversity dominant_gas  impact_class  \n",
       "0       0.753590          n2o             3  \n",
       "1       0.753590          n2o             3  \n",
       "2       0.915637          n2o             3  \n",
       "3       0.915637          n2o             3  \n",
       "4       0.915637          n2o             3  "
      ],
      "text/html": [
       "<div>\n",
       "<style scoped>\n",
       "    .dataframe tbody tr th:only-of-type {\n",
       "        vertical-align: middle;\n",
       "    }\n",
       "\n",
       "    .dataframe tbody tr th {\n",
       "        vertical-align: top;\n",
       "    }\n",
       "\n",
       "    .dataframe thead th {\n",
       "        text-align: right;\n",
       "    }\n",
       "</style>\n",
       "<table border=\"1\" class=\"dataframe\">\n",
       "  <thead>\n",
       "    <tr style=\"text-align: right;\">\n",
       "      <th></th>\n",
       "      <th>naics_code</th>\n",
       "      <th>naics_title</th>\n",
       "      <th>naics_2dig</th>\n",
       "      <th>sef_mef_ratio</th>\n",
       "      <th>co2_emission</th>\n",
       "      <th>ch4_emission</th>\n",
       "      <th>n2o_emission</th>\n",
       "      <th>hfcs_emission</th>\n",
       "      <th>pfcs_emission</th>\n",
       "      <th>sf6_emission</th>\n",
       "      <th>nf3_emission</th>\n",
       "      <th>hfc_pfc_unspecified</th>\n",
       "      <th>num_gases_emitted</th>\n",
       "      <th>gas_diversity</th>\n",
       "      <th>dominant_gas</th>\n",
       "      <th>impact_class</th>\n",
       "    </tr>\n",
       "  </thead>\n",
       "  <tbody>\n",
       "    <tr>\n",
       "      <th>0</th>\n",
       "      <td>111110</td>\n",
       "      <td>Soybean Farming</td>\n",
       "      <td>11</td>\n",
       "      <td>11.090909</td>\n",
       "      <td>0.172</td>\n",
       "      <td>0.013496</td>\n",
       "      <td>0.34450</td>\n",
       "      <td>0.000823</td>\n",
       "      <td>0.000143</td>\n",
       "      <td>0.000105</td>\n",
       "      <td>0.000023</td>\n",
       "      <td>0.000844</td>\n",
       "      <td>3</td>\n",
       "      <td>0.753590</td>\n",
       "      <td>n2o</td>\n",
       "      <td>3</td>\n",
       "    </tr>\n",
       "    <tr>\n",
       "      <th>1</th>\n",
       "      <td>111120</td>\n",
       "      <td>Oilseed (except Soybean) Farming</td>\n",
       "      <td>11</td>\n",
       "      <td>11.090909</td>\n",
       "      <td>0.172</td>\n",
       "      <td>0.013496</td>\n",
       "      <td>0.34450</td>\n",
       "      <td>0.000823</td>\n",
       "      <td>0.000143</td>\n",
       "      <td>0.000105</td>\n",
       "      <td>0.000023</td>\n",
       "      <td>0.000844</td>\n",
       "      <td>3</td>\n",
       "      <td>0.753590</td>\n",
       "      <td>n2o</td>\n",
       "      <td>3</td>\n",
       "    </tr>\n",
       "    <tr>\n",
       "      <th>2</th>\n",
       "      <td>111130</td>\n",
       "      <td>Dry Pea and Bean Farming</td>\n",
       "      <td>11</td>\n",
       "      <td>20.225000</td>\n",
       "      <td>0.207</td>\n",
       "      <td>0.111440</td>\n",
       "      <td>0.52735</td>\n",
       "      <td>0.000794</td>\n",
       "      <td>0.000148</td>\n",
       "      <td>0.000104</td>\n",
       "      <td>0.000023</td>\n",
       "      <td>0.000802</td>\n",
       "      <td>3</td>\n",
       "      <td>0.915637</td>\n",
       "      <td>n2o</td>\n",
       "      <td>3</td>\n",
       "    </tr>\n",
       "    <tr>\n",
       "      <th>3</th>\n",
       "      <td>111140</td>\n",
       "      <td>Wheat Farming</td>\n",
       "      <td>11</td>\n",
       "      <td>20.225000</td>\n",
       "      <td>0.207</td>\n",
       "      <td>0.111440</td>\n",
       "      <td>0.52735</td>\n",
       "      <td>0.000794</td>\n",
       "      <td>0.000148</td>\n",
       "      <td>0.000104</td>\n",
       "      <td>0.000023</td>\n",
       "      <td>0.000802</td>\n",
       "      <td>3</td>\n",
       "      <td>0.915637</td>\n",
       "      <td>n2o</td>\n",
       "      <td>3</td>\n",
       "    </tr>\n",
       "    <tr>\n",
       "      <th>4</th>\n",
       "      <td>111150</td>\n",
       "      <td>Corn Farming</td>\n",
       "      <td>11</td>\n",
       "      <td>20.225000</td>\n",
       "      <td>0.207</td>\n",
       "      <td>0.111440</td>\n",
       "      <td>0.52735</td>\n",
       "      <td>0.000794</td>\n",
       "      <td>0.000148</td>\n",
       "      <td>0.000104</td>\n",
       "      <td>0.000023</td>\n",
       "      <td>0.000802</td>\n",
       "      <td>3</td>\n",
       "      <td>0.915637</td>\n",
       "      <td>n2o</td>\n",
       "      <td>3</td>\n",
       "    </tr>\n",
       "  </tbody>\n",
       "</table>\n",
       "</div>"
      ]
     },
     "execution_count": 2,
     "metadata": {},
     "output_type": "execute_result"
    }
   ],
   "execution_count": 2
  },
  {
   "metadata": {},
   "cell_type": "markdown",
   "source": "#### 3.2 Preparación de Datos - Split",
   "id": "98159033282059d7"
  },
  {
   "metadata": {
    "ExecuteTime": {
     "end_time": "2025-10-15T03:25:05.510992Z",
     "start_time": "2025-10-15T03:25:05.457501Z"
    }
   },
   "cell_type": "code",
   "source": [
    "# Split estratificado 75/25\n",
    "X_train, X_test, y_train, y_test, numeric_features, categorical_features = prepare_data(\n",
    "    df=df,\n",
    "    target_col='impact_class',\n",
    "    test_size=0.25,\n",
    "    random_state=42\n",
    ")"
   ],
   "id": "e571b56299fcda42",
   "outputs": [
    {
     "name": "stdout",
     "output_type": "stream",
     "text": [
      "======================================================================\n",
      "📊 PREPARACIÓN DE DATOS COMPLETADA\n",
      "======================================================================\n",
      "\n",
      "🔢 Dimensiones:\n",
      "   Train set: 762 filas × 13 features\n",
      "   Test set:  254 filas × 13 features\n",
      "\n",
      "📋 Features:\n",
      "   Numéricas: 12\n",
      "   Categóricas: 1\n",
      "\n",
      "🎯 Distribución del target:\n",
      "   Train:\n",
      "impact_class\n",
      "0    208\n",
      "1    175\n",
      "2    189\n",
      "3    190\n",
      "Name: count, dtype: int64\n",
      "   Test:\n",
      "impact_class\n",
      "0    69\n",
      "1    58\n",
      "2    63\n",
      "3    64\n",
      "Name: count, dtype: int64\n"
     ]
    }
   ],
   "execution_count": 3
  },
  {
   "metadata": {},
   "cell_type": "markdown",
   "source": "#### 3.3 Preparación de Datos - Encoding",
   "id": "1e50bdd2cfb45e60"
  },
  {
   "metadata": {
    "ExecuteTime": {
     "end_time": "2025-10-15T03:35:03.155573Z",
     "start_time": "2025-10-15T03:35:03.140042Z"
    }
   },
   "cell_type": "code",
   "source": [
    "# Codificar features categóricas\n",
    "X_train_encoded, X_test_encoded, encoders = encode_categorical_features(\n",
    "    X_train=X_train,\n",
    "    X_test=X_test,\n",
    "    categorical_features=categorical_features\n",
    ")\n",
    "\n",
    "print(f\"\\n📝 Encoders guardados:\")\n",
    "for col, encoder in encoders.items():\n",
    "    print(f\"   {col}: {len(encoder.classes_)} clases\")"
   ],
   "id": "aba9eb5595fbd7ac",
   "outputs": [
    {
     "name": "stdout",
     "output_type": "stream",
     "text": [
      "\n",
      "✅ Features categóricas codificadas: ['dominant_gas']\n",
      "\n",
      "📝 Encoders guardados:\n",
      "   dominant_gas: 3 clases\n"
     ]
    }
   ],
   "execution_count": 4
  },
  {
   "metadata": {},
   "cell_type": "markdown",
   "source": "#### 3.4 Preparación de Datos - Scaling",
   "id": "debae0e9bce061aa"
  },
  {
   "metadata": {
    "ExecuteTime": {
     "end_time": "2025-10-15T03:36:04.379028Z",
     "start_time": "2025-10-15T03:36:04.283362Z"
    }
   },
   "cell_type": "code",
   "source": [
    "# Escalar features numéricas (para Logistic Regression y KNN)\n",
    "X_train_scaled, X_test_scaled, scaler = scale_features(\n",
    "    X_train=X_train_encoded,\n",
    "    X_test=X_test_encoded,\n",
    "    numeric_features=numeric_features\n",
    ")\n",
    "\n",
    "print(f\"\\n📊 Estadísticas después del scaling (primeras 3 features):\")\n",
    "print(X_train_scaled[numeric_features[:3]].describe().loc[['mean', 'std']])"
   ],
   "id": "d6794b4fb5b79189",
   "outputs": [
    {
     "name": "stdout",
     "output_type": "stream",
     "text": [
      "\n",
      "✅ Features numéricas escaladas: 12 features\n",
      "\n",
      "📊 Estadísticas después del scaling (primeras 3 features):\n",
      "        naics_2dig  sef_mef_ratio  co2_emission\n",
      "mean  6.061060e-17   9.324708e-18 -6.643854e-17\n",
      "std   1.000657e+00   1.000657e+00  1.000657e+00\n"
     ]
    }
   ],
   "execution_count": 5
  },
  {
   "metadata": {},
   "cell_type": "markdown",
   "source": "### 3.5 Modelo: Logistic Regression",
   "id": "6ab0cfe9a3f9236e"
  },
  {
   "metadata": {},
   "cell_type": "markdown",
   "source": "#### Entrenar Logistic Regression",
   "id": "cd632486a7756383"
  },
  {
   "metadata": {
    "ExecuteTime": {
     "end_time": "2025-10-15T03:37:19.445464Z",
     "start_time": "2025-10-15T03:37:19.284766Z"
    }
   },
   "cell_type": "code",
   "source": [
    "# Entrenar Logistic Regression\n",
    "lr_model = train_logistic_regression(\n",
    "    X_train=X_train_scaled,\n",
    "    y_train=y_train,\n",
    "    max_iter=1000,\n",
    "    random_state=42\n",
    ")"
   ],
   "id": "3f025c62b284e7f3",
   "outputs": [
    {
     "name": "stdout",
     "output_type": "stream",
     "text": [
      "\n",
      "✅ Logistic Regression entrenado\n"
     ]
    }
   ],
   "execution_count": 6
  },
  {
   "metadata": {},
   "cell_type": "markdown",
   "source": "#### Evaluar Logistic Regression",
   "id": "fb3a3d6f76fb4978"
  },
  {
   "metadata": {
    "ExecuteTime": {
     "end_time": "2025-10-15T03:38:04.801566Z",
     "start_time": "2025-10-15T03:38:04.582582Z"
    }
   },
   "cell_type": "code",
   "source": [
    "# Evaluar Logistic Regression\n",
    "lr_metrics = evaluate_model(\n",
    "    model=lr_model,\n",
    "    X_test=X_test_scaled,\n",
    "    y_test=y_test,\n",
    "    model_name='Logistic Regression'\n",
    ")"
   ],
   "id": "afc931b12f357b9",
   "outputs": [
    {
     "name": "stdout",
     "output_type": "stream",
     "text": [
      "\n",
      "======================================================================\n",
      "📊 RESULTADOS - Logistic Regression\n",
      "======================================================================\n",
      "   Accuracy:  0.8937\n",
      "   Precision: 0.8930\n",
      "   Recall:    0.8937\n",
      "   F1-Score:  0.8930\n",
      "   AUC-ROC:   0.9749\n",
      "\n",
      "📋 Classification Report:\n",
      "              precision    recall  f1-score   support\n",
      "\n",
      "           0       0.90      0.96      0.93        69\n",
      "           1       0.79      0.78      0.78        58\n",
      "           2       0.88      0.84      0.86        63\n",
      "           3       0.98      0.98      0.98        64\n",
      "\n",
      "    accuracy                           0.89       254\n",
      "   macro avg       0.89      0.89      0.89       254\n",
      "weighted avg       0.89      0.89      0.89       254\n",
      "\n"
     ]
    }
   ],
   "execution_count": 7
  },
  {
   "metadata": {},
   "cell_type": "markdown",
   "source": "### 3.6 Modelo: K-Nearest Neighbors",
   "id": "a7968bcf8aa790c8"
  },
  {
   "metadata": {},
   "cell_type": "markdown",
   "source": "#### Entrenar K-Nearest Neighbors",
   "id": "f1e2dfd161fb1bb"
  },
  {
   "metadata": {
    "ExecuteTime": {
     "end_time": "2025-10-15T03:40:28.907160Z",
     "start_time": "2025-10-15T03:40:28.883531Z"
    }
   },
   "cell_type": "code",
   "source": [
    "# Entrenar KNN\n",
    "knn_model = train_knn(\n",
    "    X_train=X_train_scaled,\n",
    "    y_train=y_train,\n",
    "    n_neighbors=5\n",
    ")"
   ],
   "id": "8de26ed4da634ccb",
   "outputs": [
    {
     "name": "stdout",
     "output_type": "stream",
     "text": [
      "\n",
      "✅ KNN entrenado (k=5)\n"
     ]
    }
   ],
   "execution_count": 8
  },
  {
   "metadata": {},
   "cell_type": "markdown",
   "source": "#### Evaluar K-Nearest Neighbors",
   "id": "8191ae7991739ba"
  },
  {
   "metadata": {
    "ExecuteTime": {
     "end_time": "2025-10-15T03:41:02.672790Z",
     "start_time": "2025-10-15T03:41:02.570026Z"
    }
   },
   "cell_type": "code",
   "source": [
    "# Evaluar KNN\n",
    "knn_metrics = evaluate_model(\n",
    "    model=knn_model,\n",
    "    X_test=X_test_scaled,\n",
    "    y_test=y_test,\n",
    "    model_name='K-Nearest Neighbors'\n",
    ")"
   ],
   "id": "dafb233a34eca9ab",
   "outputs": [
    {
     "name": "stdout",
     "output_type": "stream",
     "text": [
      "\n",
      "======================================================================\n",
      "📊 RESULTADOS - K-Nearest Neighbors\n",
      "======================================================================\n",
      "   Accuracy:  0.8819\n",
      "   Precision: 0.8857\n",
      "   Recall:    0.8819\n",
      "   F1-Score:  0.8831\n",
      "   AUC-ROC:   0.9770\n",
      "\n",
      "📋 Classification Report:\n",
      "              precision    recall  f1-score   support\n",
      "\n",
      "           0       0.95      0.88      0.92        69\n",
      "           1       0.76      0.83      0.79        58\n",
      "           2       0.86      0.86      0.86        63\n",
      "           3       0.95      0.95      0.95        64\n",
      "\n",
      "    accuracy                           0.88       254\n",
      "   macro avg       0.88      0.88      0.88       254\n",
      "weighted avg       0.89      0.88      0.88       254\n",
      "\n"
     ]
    }
   ],
   "execution_count": 9
  },
  {
   "metadata": {},
   "cell_type": "markdown",
   "source": "### 3.7 Modelo: Decision Tree",
   "id": "fee5380ebd4c359a"
  },
  {
   "metadata": {},
   "cell_type": "markdown",
   "source": "#### Entrenar Decision Tree",
   "id": "5e1f349c17e70a35"
  },
  {
   "metadata": {
    "ExecuteTime": {
     "end_time": "2025-10-15T03:56:45.833107Z",
     "start_time": "2025-10-15T03:56:45.792114Z"
    }
   },
   "cell_type": "code",
   "source": [
    "dt_model = train_decision_tree(\n",
    "    X_train=X_train_encoded,\n",
    "    y_train=y_train,\n",
    "    max_depth=10,\n",
    "    min_samples_split=20,\n",
    "    random_state=42\n",
    ")"
   ],
   "id": "4e6b85821fa0c005",
   "outputs": [
    {
     "name": "stdout",
     "output_type": "stream",
     "text": [
      "\n",
      "✅ Decision Tree entrenado (max_depth=10)\n"
     ]
    }
   ],
   "execution_count": 10
  },
  {
   "metadata": {},
   "cell_type": "markdown",
   "source": "#### Evaluar Decision Tree",
   "id": "5a835fc2fc845f68"
  },
  {
   "metadata": {
    "ExecuteTime": {
     "end_time": "2025-10-15T03:58:24.103173Z",
     "start_time": "2025-10-15T03:58:24.005466Z"
    }
   },
   "cell_type": "code",
   "source": [
    "dt_metrics = evaluate_model(\n",
    "    model=dt_model,\n",
    "    X_test=X_test_encoded,\n",
    "    y_test=y_test,\n",
    "    model_name='Decision Tree'\n",
    ")"
   ],
   "id": "94de23dbe154d480",
   "outputs": [
    {
     "name": "stdout",
     "output_type": "stream",
     "text": [
      "\n",
      "======================================================================\n",
      "📊 RESULTADOS - Decision Tree\n",
      "======================================================================\n",
      "   Accuracy:  0.9803\n",
      "   Precision: 0.9807\n",
      "   Recall:    0.9803\n",
      "   F1-Score:  0.9802\n",
      "   AUC-ROC:   0.9943\n",
      "\n",
      "📋 Classification Report:\n",
      "              precision    recall  f1-score   support\n",
      "\n",
      "           0       1.00      1.00      1.00        69\n",
      "           1       0.95      1.00      0.97        58\n",
      "           2       0.98      0.94      0.96        63\n",
      "           3       0.98      0.98      0.98        64\n",
      "\n",
      "    accuracy                           0.98       254\n",
      "   macro avg       0.98      0.98      0.98       254\n",
      "weighted avg       0.98      0.98      0.98       254\n",
      "\n"
     ]
    }
   ],
   "execution_count": 11
  },
  {
   "metadata": {},
   "cell_type": "markdown",
   "source": "### 3.8 Modelo: Random Forest",
   "id": "f90dd30439189d98"
  },
  {
   "metadata": {},
   "cell_type": "markdown",
   "source": "#### Entrenar Random Forest",
   "id": "72640a5383196459"
  },
  {
   "metadata": {
    "ExecuteTime": {
     "end_time": "2025-10-15T03:59:47.546138Z",
     "start_time": "2025-10-15T03:59:46.822945Z"
    }
   },
   "cell_type": "code",
   "source": [
    "rf_model = train_random_forest(\n",
    "    X_train=X_train_encoded,\n",
    "    y_train=y_train,\n",
    "    n_estimators=100,\n",
    "    max_depth=15,\n",
    "    min_samples_split=10,\n",
    "    random_state=42\n",
    ")"
   ],
   "id": "d45fd012c417ea6d",
   "outputs": [
    {
     "name": "stdout",
     "output_type": "stream",
     "text": [
      "\n",
      "✅ Random Forest entrenado (n_estimators=100)\n"
     ]
    }
   ],
   "execution_count": 12
  },
  {
   "metadata": {},
   "cell_type": "markdown",
   "source": "#### Evaluar Random Forest",
   "id": "72f41c4915d0beb1"
  },
  {
   "metadata": {
    "ExecuteTime": {
     "end_time": "2025-10-15T04:00:26.122144Z",
     "start_time": "2025-10-15T04:00:25.879178Z"
    }
   },
   "cell_type": "code",
   "source": [
    "rf_metrics = evaluate_model(\n",
    "    model=rf_model,\n",
    "    X_test=X_test_encoded,\n",
    "    y_test=y_test,\n",
    "    model_name='Random Forest'\n",
    ")"
   ],
   "id": "b91790fc8f99cfbe",
   "outputs": [
    {
     "name": "stdout",
     "output_type": "stream",
     "text": [
      "\n",
      "======================================================================\n",
      "📊 RESULTADOS - Random Forest\n",
      "======================================================================\n",
      "   Accuracy:  0.9882\n",
      "   Precision: 0.9885\n",
      "   Recall:    0.9882\n",
      "   F1-Score:  0.9881\n",
      "   AUC-ROC:   0.9998\n",
      "\n",
      "📋 Classification Report:\n",
      "              precision    recall  f1-score   support\n",
      "\n",
      "           0       1.00      1.00      1.00        69\n",
      "           1       0.97      1.00      0.98        58\n",
      "           2       1.00      0.95      0.98        63\n",
      "           3       0.98      1.00      0.99        64\n",
      "\n",
      "    accuracy                           0.99       254\n",
      "   macro avg       0.99      0.99      0.99       254\n",
      "weighted avg       0.99      0.99      0.99       254\n",
      "\n"
     ]
    }
   ],
   "execution_count": 13
  },
  {
   "metadata": {},
   "cell_type": "markdown",
   "source": "#### 3.9 Comparar Modelos - Tabla",
   "id": "228ceff2f53981f7"
  },
  {
   "metadata": {
    "ExecuteTime": {
     "end_time": "2025-10-15T04:01:24.928535Z",
     "start_time": "2025-10-15T04:01:24.895344Z"
    }
   },
   "cell_type": "code",
   "source": [
    "# Lista de métricas de todos los modelos\n",
    "all_metrics = [lr_metrics, knn_metrics, dt_metrics, rf_metrics]\n",
    "\n",
    "# Comparar modelos\n",
    "comparison_df = compare_models(all_metrics)"
   ],
   "id": "20c8f684a2795646",
   "outputs": [
    {
     "name": "stdout",
     "output_type": "stream",
     "text": [
      "\n",
      "======================================================================\n",
      "🏆 COMPARACIÓN DE MODELOS\n",
      "======================================================================\n",
      "              Model  Accuracy  Precision   Recall  F1-Score  AUC-ROC\n",
      "      Random Forest  0.988189   0.988512 0.988189  0.988127 0.999795\n",
      "      Decision Tree  0.980315   0.980699 0.980315  0.980224 0.994315\n",
      "Logistic Regression  0.893701   0.893004 0.893701  0.893011 0.974853\n",
      "K-Nearest Neighbors  0.881890   0.885654 0.881890  0.883109 0.977028\n"
     ]
    }
   ],
   "execution_count": 14
  },
  {
   "metadata": {},
   "cell_type": "markdown",
   "source": "#### 3.10 Comparar Modelos - Gráfico de Métricas",
   "id": "5c87b185b76ed769"
  },
  {
   "metadata": {
    "ExecuteTime": {
     "end_time": "2025-10-15T04:11:25.272604Z",
     "start_time": "2025-10-15T04:11:24.018874Z"
    }
   },
   "cell_type": "code",
   "source": [
    "# Visualizar comparación de métricas\n",
    "plot_metrics_comparison(comparison_df, figsize=(14, 6))"
   ],
   "id": "706ce7d9f5e9d44",
   "outputs": [
    {
     "data": {
      "text/plain": [
       "<Figure size 1400x600 with 1 Axes>"
      ],
      "image/png": "[encoded data removed]"
     },
     "metadata": {},
     "output_type": "display_data"
    }
   ],
   "execution_count": 15
  },
  {
   "metadata": {},
   "cell_type": "markdown",
   "source": "#### 3.11 Comparar Modelos - Matrices de Confusión",
   "id": "71ef8b7c47cb6068"
  },
  {
   "metadata": {
    "ExecuteTime": {
     "end_time": "2025-10-15T04:20:35.979670Z",
     "start_time": "2025-10-15T04:20:33.152692Z"
    }
   },
   "cell_type": "code",
   "source": [
    "# Visualizar matrices de confusión\n",
    "plot_confusion_matrices(all_metrics, figsize=(18, 4))\n",
    "\n"
   ],
   "id": "2869fa00a3eae7",
   "outputs": [
    {
     "data": {
      "text/plain": [
       "<Figure size 1800x400 with 4 Axes>"
      ],
      "image/png": "[encoded data removed]"
     },
     "metadata": {},
     "output_type": "display_data"
    }
   ],
   "execution_count": 16
  },
  {
   "metadata": {},
   "cell_type": "markdown",
   "source": "#### 3.12 Feature Importance - Random Forest",
   "id": "a3f53e431528c816"
  },
  {
   "metadata": {
    "ExecuteTime": {
     "end_time": "2025-10-15T04:30:52.538816Z",
     "start_time": "2025-10-15T04:30:52.439557Z"
    }
   },
   "cell_type": "code",
   "source": [
    "# Obtener nombres de features\n",
    "feature_names = X_train_encoded.columns.tolist()\n",
    "\n",
    "# Feature importance para Random Forest\n",
    "rf_importance = get_feature_importance(\n",
    "    model=rf_model,\n",
    "    feature_names=feature_names,\n",
    "    top_n=15\n",
    ")"
   ],
   "id": "1474718a5346bd0",
   "outputs": [
    {
     "name": "stdout",
     "output_type": "stream",
     "text": [
      "\n",
      "======================================================================\n",
      "🎯 TOP 15 FEATURES MÁS IMPORTANTES\n",
      "======================================================================\n",
      "            feature  importance\n",
      "       co2_emission    0.322451\n",
      "       ch4_emission    0.179071\n",
      "      sef_mef_ratio    0.120875\n",
      "       n2o_emission    0.107061\n",
      "         naics_2dig    0.074329\n",
      "       sf6_emission    0.058464\n",
      "      gas_diversity    0.053983\n",
      "      hfcs_emission    0.020530\n",
      "      pfcs_emission    0.018860\n",
      "hfc_pfc_unspecified    0.016880\n",
      "       nf3_emission    0.016588\n",
      "  num_gases_emitted    0.005517\n",
      "       dominant_gas    0.005391\n"
     ]
    }
   ],
   "execution_count": 17
  },
  {
   "metadata": {},
   "cell_type": "markdown",
   "source": "#### 3.13 Visualizar Feature Importance - Random Forest",
   "id": "4bc1e6fcb1794827"
  },
  {
   "metadata": {
    "ExecuteTime": {
     "end_time": "2025-10-15T04:32:10.123644Z",
     "start_time": "2025-10-15T04:32:09.405230Z"
    }
   },
   "cell_type": "code",
   "source": [
    "# Visualizar feature importance\n",
    "if rf_importance is not None:\n",
    "    plot_feature_importance(\n",
    "        importance_df=rf_importance,\n",
    "        title='Random Forest - Top 15 Features más Importantes',\n",
    "        figsize=(12, 8)\n",
    "    )"
   ],
   "id": "43f5a93c0b8ff45d",
   "outputs": [
    {
     "data": {
      "text/plain": [
       "<Figure size 1200x800 with 1 Axes>"
      ],
      "image/png": "[encoded data removed]"
     },
     "metadata": {},
     "output_type": "display_data"
    }
   ],
   "execution_count": 18
  },
  {
   "metadata": {},
   "cell_type": "markdown",
   "source": "#### 3.14 Feature Importance - Decision Tree",
   "id": "107114169e38dfc3"
  },
  {
   "metadata": {
    "ExecuteTime": {
     "end_time": "2025-10-15T04:33:21.870338Z",
     "start_time": "2025-10-15T04:33:21.858271Z"
    }
   },
   "cell_type": "code",
   "source": [
    "# Feature importance para Decision Tree\n",
    "dt_importance = get_feature_importance(\n",
    "    model=dt_model,\n",
    "    feature_names=feature_names,\n",
    "    top_n=15\n",
    ")"
   ],
   "id": "da11bc5e40a9b905",
   "outputs": [
    {
     "name": "stdout",
     "output_type": "stream",
     "text": [
      "\n",
      "======================================================================\n",
      "🎯 TOP 15 FEATURES MÁS IMPORTANTES\n",
      "======================================================================\n",
      "            feature  importance\n",
      "       co2_emission    0.602544\n",
      "       ch4_emission    0.146935\n",
      "      sef_mef_ratio    0.093528\n",
      "       n2o_emission    0.054966\n",
      "       dominant_gas    0.039284\n",
      "         naics_2dig    0.031613\n",
      "      gas_diversity    0.021843\n",
      "       nf3_emission    0.003507\n",
      "      hfcs_emission    0.003472\n",
      "       sf6_emission    0.002309\n",
      "      pfcs_emission    0.000000\n",
      "  num_gases_emitted    0.000000\n",
      "hfc_pfc_unspecified    0.000000\n"
     ]
    }
   ],
   "execution_count": 19
  },
  {
   "metadata": {},
   "cell_type": "markdown",
   "source": "#### 3.15 Visualizar Feature Importance - Decision Tree",
   "id": "3e5c289c853a57b8"
  },
  {
   "metadata": {
    "ExecuteTime": {
     "end_time": "2025-10-15T04:34:13.303596Z",
     "start_time": "2025-10-15T04:34:12.880258Z"
    }
   },
   "cell_type": "code",
   "source": [
    "# Visualizar feature importance\n",
    "if dt_importance is not None:\n",
    "    plot_feature_importance(\n",
    "        importance_df=dt_importance,\n",
    "        title='Decision Tree - Top 15 Features más Importantes',\n",
    "        figsize=(12, 8)\n",
    "    )"
   ],
   "id": "cd22b67758e6d7b8",
   "outputs": [
    {
     "data": {
      "text/plain": [
       "<Figure size 1200x800 with 1 Axes>"
      ],
      "image/png": "[encoded data removed]"
     },
     "metadata": {},
     "output_type": "display_data"
    }
   ],
   "execution_count": 20
  },
  {
   "metadata": {},
   "cell_type": "markdown",
   "source": "#### 3.16 Identificar Mejor Modelo",
   "id": "8aa835788c3789e1"
  },
  {
   "metadata": {},
   "cell_type": "markdown",
   "source": "#### Identificar mejor modelo por F1-Score",
   "id": "1699cefc117d9846"
  },
  {
   "metadata": {
    "ExecuteTime": {
     "end_time": "2025-10-15T04:35:25.106311Z",
     "start_time": "2025-10-15T04:35:25.097161Z"
    }
   },
   "cell_type": "code",
   "source": [
    "best_model_row = comparison_df.loc[comparison_df['F1-Score'].idxmax()]\n",
    "best_model_name = best_model_row['Model']\n",
    "\n",
    "print(\"\\n\" + \"=\"*70)\n",
    "print(\"🏆 MEJOR MODELO\")\n",
    "print(\"=\"*70)\n",
    "print(f\"\\n🥇 Modelo seleccionado: {best_model_name}\")\n",
    "print(f\"\\n📊 Métricas:\")\n",
    "print(f\"   Accuracy:  {best_model_row['Accuracy']:.4f}\")\n",
    "print(f\"   Precision: {best_model_row['Precision']:.4f}\")\n",
    "print(f\"   Recall:    {best_model_row['Recall']:.4f}\")\n",
    "print(f\"   F1-Score:  {best_model_row['F1-Score']:.4f}\")\n",
    "if not pd.isna(best_model_row['AUC-ROC']):\n",
    "    print(f\"   AUC-ROC:   {best_model_row['AUC-ROC']:.4f}\")"
   ],
   "id": "bbdcc68d782565d4",
   "outputs": [
    {
     "name": "stdout",
     "output_type": "stream",
     "text": [
      "\n",
      "======================================================================\n",
      "🏆 MEJOR MODELO\n",
      "======================================================================\n",
      "\n",
      "🥇 Modelo seleccionado: Random Forest\n",
      "\n",
      "📊 Métricas:\n",
      "   Accuracy:  0.9882\n",
      "   Precision: 0.9885\n",
      "   Recall:    0.9882\n",
      "   F1-Score:  0.9881\n",
      "   AUC-ROC:   0.9998\n"
     ]
    }
   ],
   "execution_count": 21
  },
  {
   "metadata": {},
   "cell_type": "markdown",
   "source": "#### Identificar el objeto del modelo",
   "id": "fd3c0f300b31c84a"
  },
  {
   "metadata": {
    "ExecuteTime": {
     "end_time": "2025-10-15T04:36:16.355458Z",
     "start_time": "2025-10-15T04:36:16.346398Z"
    }
   },
   "cell_type": "code",
   "source": [
    "models_dict = {\n",
    "    'Logistic Regression': lr_model,\n",
    "    'K-Nearest Neighbors': knn_model,\n",
    "    'Decision Tree': dt_model,\n",
    "    'Random Forest': rf_model\n",
    "}\n",
    "\n",
    "best_model = models_dict[best_model_name]\n",
    "print(f\"\\n✅ Modelo identificado para guardar\")"
   ],
   "id": "e54f169419b0d5be",
   "outputs": [
    {
     "name": "stdout",
     "output_type": "stream",
     "text": [
      "\n",
      "✅ Modelo identificado para guardar\n"
     ]
    }
   ],
   "execution_count": 22
  },
  {
   "metadata": {},
   "cell_type": "markdown",
   "source": "#### 3.17 Guardar Mejor Modelo",
   "id": "eed51b59761ad29c"
  },
  {
   "metadata": {
    "ExecuteTime": {
     "end_time": "2025-10-15T04:58:01.428030Z",
     "start_time": "2025-10-15T04:58:01.413500Z"
    }
   },
   "cell_type": "code",
   "source": [
    "# Crear carpeta si no existe\n",
    "import os\n",
    "os.makedirs('../modelos', exist_ok=True)\n",
    "\n",
    "# Guardar mejor modelo\n",
    "save_model(best_model, '../modelos/best_model.pkl')"
   ],
   "id": "7fbf88060dcd0a18",
   "outputs": [
    {
     "name": "stdout",
     "output_type": "stream",
     "text": [
      "\n",
      "✅ Modelo guardado en: ../models/best_model.pkl\n"
     ]
    }
   ],
   "execution_count": 24
  },
  {
   "metadata": {},
   "cell_type": "markdown",
   "source": "#### 3.18 Guardar Scaler (si aplica)",
   "id": "90d201706f36514d"
  },
  {
   "metadata": {
    "ExecuteTime": {
     "end_time": "2025-10-15T04:59:17.038403Z",
     "start_time": "2025-10-15T04:59:17.032096Z"
    }
   },
   "cell_type": "code",
   "source": [
    "# Guardar scaler (si el mejor modelo lo requiere)\n",
    "if best_model_name in ['Logistic Regression', 'K-Nearest Neighbors']:\n",
    "    save_model(scaler, '../modelos/scaler.pkl')\n",
    "    print(\"✅ Scaler también guardado\")\n",
    "else:\n",
    "    print(\"ℹ️ El mejor modelo no requiere scaler\")"
   ],
   "id": "4db2d5f2e13cdc07",
   "outputs": [
    {
     "name": "stdout",
     "output_type": "stream",
     "text": [
      "ℹ️ El mejor modelo no requiere scaler\n"
     ]
    }
   ],
   "execution_count": 25
  },
  {
   "metadata": {},
   "cell_type": "markdown",
   "source": "#### 3.20 Guardar Encoders",
   "id": "570f077da3df27b7"
  },
  {
   "metadata": {
    "ExecuteTime": {
     "end_time": "2025-10-15T05:00:01.170990Z",
     "start_time": "2025-10-15T05:00:01.159321Z"
    }
   },
   "cell_type": "code",
   "source": [
    "# Guardar encoders\n",
    "save_model(encoders, '../modelos/encoders.pkl')\n",
    "print(\"✅ Encoders guardados\")"
   ],
   "id": "2819abe0b6f511f9",
   "outputs": [
    {
     "name": "stdout",
     "output_type": "stream",
     "text": [
      "\n",
      "✅ Modelo guardado en: ../models/encoders.pkl\n",
      "✅ Encoders guardados\n"
     ]
    }
   ],
   "execution_count": 27
  },
  {
   "metadata": {},
   "cell_type": "markdown",
   "source": "#### 3.21 Guardar Comparación de Modelos",
   "id": "eb0425c1e9c01e9d"
  },
  {
   "metadata": {
    "ExecuteTime": {
     "end_time": "2025-10-15T05:00:52.779052Z",
     "start_time": "2025-10-15T05:00:52.764923Z"
    }
   },
   "cell_type": "code",
   "source": [
    "# Guardar comparación de modelos\n",
    "comparison_df.to_csv('../modelos/model_comparison.csv', index=False)\n",
    "print(\"\\n✅ Comparación de modelos guardada en: ../modelos/model_comparison.csv\")"
   ],
   "id": "3c1f630130032735",
   "outputs": [
    {
     "name": "stdout",
     "output_type": "stream",
     "text": [
      "\n",
      "✅ Comparación de modelos guardada en: ../models/model_comparison.csv\n"
     ]
    }
   ],
   "execution_count": 28
  },
  {
   "metadata": {},
   "cell_type": "markdown",
   "source": "#### 3.22 Guardar Feature Importance (si aplica)",
   "id": "21765fe2fda8ecf7"
  },
  {
   "metadata": {
    "ExecuteTime": {
     "end_time": "2025-10-15T05:01:40.011325Z",
     "start_time": "2025-10-15T05:01:39.916430Z"
    }
   },
   "cell_type": "code",
   "source": [
    "# Guardar feature importance del mejor modelo\n",
    "if best_model_name in ['Random Forest', 'Decision Tree']:\n",
    "    best_importance = get_feature_importance(\n",
    "        model=best_model,\n",
    "        feature_names=feature_names,\n",
    "        top_n=len(feature_names)\n",
    "    )\n",
    "    best_importance.to_csv('../modelos/feature_importance.csv', index=False)\n",
    "    print(\"✅ Feature importance guardado en: ../modelos/feature_importance.csv\")\n",
    "else:\n",
    "    print(\"ℹ️ El mejor modelo no tiene feature importance\")"
   ],
   "id": "5ab09f3c05148154",
   "outputs": [
    {
     "name": "stdout",
     "output_type": "stream",
     "text": [
      "\n",
      "======================================================================\n",
      "🎯 TOP 13 FEATURES MÁS IMPORTANTES\n",
      "======================================================================\n",
      "            feature  importance\n",
      "       co2_emission    0.322451\n",
      "       ch4_emission    0.179071\n",
      "      sef_mef_ratio    0.120875\n",
      "       n2o_emission    0.107061\n",
      "         naics_2dig    0.074329\n",
      "       sf6_emission    0.058464\n",
      "      gas_diversity    0.053983\n",
      "      hfcs_emission    0.020530\n",
      "      pfcs_emission    0.018860\n",
      "hfc_pfc_unspecified    0.016880\n",
      "       nf3_emission    0.016588\n",
      "  num_gases_emitted    0.005517\n",
      "       dominant_gas    0.005391\n",
      "✅ Feature importance guardado en: ../models/feature_importance.csv\n"
     ]
    }
   ],
   "execution_count": 30
  },
  {
   "metadata": {},
   "cell_type": "markdown",
   "source": "#### 3.23 Resumen Final",
   "id": "7cf12856ea372d62"
  },
  {
   "cell_type": "code",
   "id": "initial_id",
   "metadata": {
    "collapsed": true,
    "ExecuteTime": {
     "end_time": "2025-10-15T05:02:09.593996Z",
     "start_time": "2025-10-15T05:02:09.572138Z"
    }
   },
   "source": [
    "print(\"\\n\" + \"=\"*70)\n",
    "print(\"📋 RESUMEN DEL MODELADO\")\n",
    "print(\"=\"*70)\n",
    "\n",
    "print(f\"\\n📊 Dataset:\")\n",
    "print(f\"   Total de observaciones: {len(df)}\")\n",
    "print(f\"   Train set: {len(X_train)} ({len(X_train)/len(df)*100:.1f}%)\")\n",
    "print(f\"   Test set: {len(X_test)} ({len(X_test)/len(df)*100:.1f}%)\")\n",
    "print(f\"   Features: {len(feature_names)}\")\n",
    "print(f\"   Clases: {len(y_train.unique())}\")\n",
    "\n",
    "print(f\"\\n🤖 Modelos entrenados:\")\n",
    "for model_name in comparison_df['Model']:\n",
    "    f1 = comparison_df[comparison_df['Model']==model_name]['F1-Score'].values[0]\n",
    "    emoji = \"🏆\" if model_name == best_model_name else \"  \"\n",
    "    print(f\"   {emoji} {model_name}: F1-Score = {f1:.4f}\")\n",
    "\n",
    "print(f\"\\n🎯 Cumplimiento de objetivos:\")\n",
    "best_accuracy = best_model_row['Accuracy']\n",
    "best_f1 = best_model_row['F1-Score']\n",
    "\n",
    "accuracy_goal = \"✅ SÍ\" if best_accuracy >= 0.70 else \"❌ NO\"\n",
    "f1_goal = \"✅ SÍ\" if best_f1 >= 0.65 else \"❌ NO\"\n",
    "\n",
    "print(f\"   Accuracy ≥ 0.70: {accuracy_goal} (alcanzado: {best_accuracy:.4f})\")\n",
    "print(f\"   F1-Score ≥ 0.65: {f1_goal} (alcanzado: {best_f1:.4f})\")\n",
    "\n",
    "print(f\"\\n💾 Archivos generados:\")\n",
    "print(f\"   ../modelos/best_model.pkl\")\n",
    "if best_model_name in ['Logistic Regression', 'K-Nearest Neighbors']:\n",
    "    print(f\"   ../modelos/scaler.pkl\")\n",
    "print(f\"   ../modelos/encoders.pkl\")\n",
    "print(f\"   ../modelos/model_comparison.csv\")\n",
    "if best_model_name in ['Random Forest', 'Decision Tree']:\n",
    "    print(f\"   ../modelos/feature_importance.csv\")\n",
    "\n",
    "print(\"\\n\" + \"=\"*70)\n",
    "print(\"✅ MODELADO COMPLETADO\")\n",
    "print(\"=\"*70)"
   ],
   "outputs": [
    {
     "name": "stdout",
     "output_type": "stream",
     "text": [
      "\n",
      "======================================================================\n",
      "📋 RESUMEN DEL MODELADO\n",
      "======================================================================\n",
      "\n",
      "📊 Dataset:\n",
      "   Total de observaciones: 1016\n",
      "   Train set: 762 (75.0%)\n",
      "   Test set: 254 (25.0%)\n",
      "   Features: 13\n",
      "   Clases: 4\n",
      "\n",
      "🤖 Modelos entrenados:\n",
      "   🏆 Random Forest: F1-Score = 0.9881\n",
      "      Decision Tree: F1-Score = 0.9802\n",
      "      Logistic Regression: F1-Score = 0.8930\n",
      "      K-Nearest Neighbors: F1-Score = 0.8831\n",
      "\n",
      "🎯 Cumplimiento de objetivos:\n",
      "   Accuracy ≥ 0.70: ✅ SÍ (alcanzado: 0.9882)\n",
      "   F1-Score ≥ 0.65: ✅ SÍ (alcanzado: 0.9881)\n",
      "\n",
      "💾 Archivos generados:\n",
      "   ../modelos/best_model.pkl\n",
      "   ../modelos/encoders.pkl\n",
      "   ../modelos/model_comparison.csv\n",
      "   ../modelos/feature_importance.csv\n",
      "\n",
      "======================================================================\n",
      "✅ MODELADO COMPLETADO\n",
      "======================================================================\n"
     ]
    }
   ],
   "execution_count": 31
  },
  {
   "metadata": {},
   "cell_type": "markdown",
   "source": "",
   "id": "7deb86789abfe309"
  },
  {
   "metadata": {},
   "cell_type": "markdown",
   "source": [
    "📝 PARA TU DOCUMENTACIÓN\n",
    "Mensaje clave:\n",
    "\n",
    "\"El modelo Random Forest alcanzó 98.81% F1-Score usando principalmente emisiones de CO₂ (32%), CH₄ (18%), el ratio estructura económica (12%) y N₂O (11%). Esta combinación de variables químicas y económicas captura la firma única de cada sector industrial, permitiendo clasificar su impacto ambiental con alta precisión.\""
   ],
   "id": "13096c11013225cf"
  }
 ],
 "metadata": {
  "kernelspec": {
   "display_name": "Python 3",
   "language": "python",
   "name": "python3"
  },
  "language_info": {
   "codemirror_mode": {
    "name": "ipython",
    "version": 2
   },
   "file_extension": ".py",
   "mimetype": "text/x-python",
   "name": "python",
   "nbconvert_exporter": "python",
   "pygments_lexer": "ipython2",
   "version": "2.7.6"
  }
 },
 "nbformat": 4,
 "nbformat_minor": 5
}
