{
 "cells": [
  {
   "metadata": {},
   "cell_type": "markdown",
   "source": "### 1. Análisis Exploratorio de Datos",
   "id": "44f11da6f41caa43"
  },
  {
   "metadata": {},
   "cell_type": "markdown",
   "source": "#### 1.0 Imports",
   "id": "f70190720d78bb96"
  },
  {
   "metadata": {
    "ExecuteTime": {
     "end_time": "2025-10-14T17:17:19.650787Z",
     "start_time": "2025-10-14T17:17:19.618445Z"
    }
   },
   "cell_type": "code",
   "source": [
    "from src.data_loader import load_datasets, get_basic_info\n",
    "from src.visualization import setup_plot_style\n",
    "import pandas as pd\n",
    "import numpy as np\n",
    "import matplotlib.pyplot as plt\n",
    "import seaborn as sns\n",
    "import warnings\n",
    "import os\n",
    "import sys\n",
    "import importlib\n",
    "\n",
    "from src.data_loader import (\n",
    "    load_datasets,\n",
    "    get_basic_info,\n",
    "    get_descriptive_stats,\n",
    "    validate_data_quality,\n",
    "    preview_data,\n",
    "    get_column_summary\n",
    ")\n",
    "\n",
    "from src.eda_functions import (\n",
    "    analyze_emission_factors,\n",
    "    analyze_naics_distribution,\n",
    "    analyze_ghg_types,\n",
    "    detect_outliers,\n",
    "    correlation_analysis,\n",
    "    generate_eda_report\n",
    ")\n",
    "\n",
    "from src.visualization import (\n",
    "    setup_plot_style,\n",
    "    plot_distribution,\n",
    "    plot_boxplot,\n",
    "    plot_top_sectors,\n",
    "    plot_naics_distribution,\n",
    "    plot_correlation_heatmap,\n",
    "    plot_emission_comparison,\n",
    "    plot_ghg_composition,\n",
    "    plot_outliers_analysis,\n",
    "    create_eda_visualizations,\n",
    "    plot_bubble_chart_top_sectors\n",
    ")\n",
    "\n",
    "from src import (data_loader, eda_functions, feature_engineering, modeling, visualization)\n",
    "\n",
    "importlib.reload(data_loader)\n",
    "importlib.reload(eda_functions)\n",
    "importlib.reload(feature_engineering)\n",
    "importlib.reload(modeling)\n",
    "importlib.reload(visualization)\n",
    "warnings.filterwarnings('ignore')\n",
    "sys.path.append('./src')  # Ajustar según la estructura\n",
    "setup_plot_style()\n",
    "os.makedirs('../outputs/eda_plots', exist_ok=True)\n",
    "\n",
    "print(\"✅ Todo importado correctamente\")"
   ],
   "id": "47b2ecbc45bc79a4",
   "outputs": [
    {
     "name": "stdout",
     "output_type": "stream",
     "text": [
      "✅ Todo importado correctamente\n"
     ]
    }
   ],
   "execution_count": 58
  },
  {
   "metadata": {},
   "cell_type": "markdown",
   "source": "#### 1.1 Lectura de datos",
   "id": "a6ac4b624bb1cf72"
  },
  {
   "metadata": {
    "ExecuteTime": {
     "end_time": "2025-10-14T17:04:28.534816Z",
     "start_time": "2025-10-14T17:04:28.447668Z"
    }
   },
   "cell_type": "code",
   "source": "df1, df2 = load_datasets(path_dataset1='../data/raw/dataset1.csv', path_dataset2='../data/raw/dataset2.csv')",
   "id": "37687800bf40426c",
   "outputs": [
    {
     "name": "stdout",
     "output_type": "stream",
     "text": [
      "✅ Datasets cargados exitosamente\n",
      "   - Dataset 1: 1016 filas, 8 columnas\n",
      "   - Dataset 2: 18288 filas, 8 columnas\n"
     ]
    }
   ],
   "execution_count": 3
  },
  {
   "metadata": {
    "ExecuteTime": {
     "end_time": "2025-10-14T17:04:32.572975Z",
     "start_time": "2025-10-14T17:04:32.569034Z"
    }
   },
   "cell_type": "code",
   "source": [
    "# from src.visualization import plot_bubble_chart_all_sectors\n",
    "# \n",
    "# fig = plot_bubble_chart_all_sectors(df=df1, outlier_threshold=1.5)\n",
    "# plt.show()"
   ],
   "id": "ed2942ccfb9e611e",
   "outputs": [],
   "execution_count": 4
  },
  {
   "metadata": {},
   "cell_type": "markdown",
   "source": "#### 1.2 Información Básica Dataset 1",
   "id": "3e4f93ac2fe2c1b9"
  },
  {
   "metadata": {
    "ExecuteTime": {
     "end_time": "2025-10-14T17:04:36.249894Z",
     "start_time": "2025-10-14T17:04:36.218602Z"
    }
   },
   "cell_type": "code",
   "source": "preview_data(df1, n_rows=10)",
   "id": "bde5c93dddd6588c",
   "outputs": [
    {
     "name": "stdout",
     "output_type": "stream",
     "text": [
      "\n",
      "👀 PRIMERAS 10 FILAS:\n",
      "======================================================================\n",
      "   2017 NAICS Code                                   2017 NAICS Title       GHG                               Unit  Supply Chain Emission Factors without Margins  Margins of Supply Chain Emission Factors  Supply Chain Emission Factors with Margins Reference USEEIO Code\n",
      "0           111110                                    Soybean Farming  All GHGs  kg CO2e/2022 USD, purchaser price                                          0.488                                     0.044                                       0.532                1111A0\n",
      "1           111120                   Oilseed (except Soybean) Farming  All GHGs  kg CO2e/2022 USD, purchaser price                                          0.488                                     0.044                                       0.532                1111A0\n",
      "2           111130                           Dry Pea and Bean Farming  All GHGs  kg CO2e/2022 USD, purchaser price                                          0.809                                     0.040                                       0.848                1111B0\n",
      "3           111140                                      Wheat Farming  All GHGs  kg CO2e/2022 USD, purchaser price                                          0.809                                     0.040                                       0.848                1111B0\n",
      "4           111150                                       Corn Farming  All GHGs  kg CO2e/2022 USD, purchaser price                                          0.809                                     0.040                                       0.848                1111B0\n",
      "5           111160                                       Rice Farming  All GHGs  kg CO2e/2022 USD, purchaser price                                          0.809                                     0.040                                       0.848                1111B0\n",
      "6           111191              Oilseed and Grain Combination Farming  All GHGs  kg CO2e/2022 USD, purchaser price                                          0.809                                     0.040                                       0.848                1111B0\n",
      "7           111199                            All Other Grain Farming  All GHGs  kg CO2e/2022 USD, purchaser price                                          0.809                                     0.040                                       0.848                1111B0\n",
      "8           111211                                     Potato Farming  All GHGs  kg CO2e/2022 USD, purchaser price                                          0.591                                     0.041                                       0.631                111200\n",
      "9           111219  Other Vegetable (except Potato) and Melon Farming  All GHGs  kg CO2e/2022 USD, purchaser price                                          0.591                                     0.041                                       0.631                111200\n",
      "======================================================================\n"
     ]
    }
   ],
   "execution_count": 5
  },
  {
   "metadata": {
    "ExecuteTime": {
     "end_time": "2025-10-14T17:04:40.777449Z",
     "start_time": "2025-10-14T17:04:40.761697Z"
    }
   },
   "cell_type": "code",
   "source": "get_basic_info(df1, \"Dataset 1 - Factores Agregados\")",
   "id": "f37f549fbf81660e",
   "outputs": [
    {
     "name": "stdout",
     "output_type": "stream",
     "text": [
      "======================================================================\n",
      "📊 INFORMACIÓN BÁSICA - Dataset 1 - Factores Agregados\n",
      "======================================================================\n",
      "\n",
      "🔢 Dimensiones: 1016 filas × 8 columnas\n",
      "\n",
      "📋 Columnas:\n",
      "   1. 2017 NAICS Code (int64)\n",
      "   2. 2017 NAICS Title (object)\n",
      "   3. GHG (object)\n",
      "   4. Unit (object)\n",
      "   5. Supply Chain Emission Factors without Margins (float64)\n",
      "   6. Margins of Supply Chain Emission Factors (float64)\n",
      "   7. Supply Chain Emission Factors with Margins (float64)\n",
      "   8. Reference USEEIO Code (object)\n",
      "\n",
      "🔍 Valores nulos:\n",
      "   ✅ No hay valores nulos\n",
      "\n",
      "📈 Valores únicos por columna:\n",
      "   - 2017 NAICS Code: 1016\n",
      "   - 2017 NAICS Title: 1016\n",
      "   - GHG: 1\n",
      "   - Unit: 1\n",
      "   - Supply Chain Emission Factors without Margins: 274\n",
      "   - Margins of Supply Chain Emission Factors: 69\n",
      "   - Supply Chain Emission Factors with Margins: 281\n",
      "   - Reference USEEIO Code: 386\n",
      "\n",
      "💾 Uso de memoria: 0.34 MB\n",
      "\n",
      "======================================================================\n"
     ]
    }
   ],
   "execution_count": 6
  },
  {
   "metadata": {
    "ExecuteTime": {
     "end_time": "2025-10-14T17:04:45.867220Z",
     "start_time": "2025-10-14T17:04:45.777910Z"
    }
   },
   "cell_type": "code",
   "source": [
    "stats_df1 = get_descriptive_stats(df1)\n",
    "display(stats_df1.round(4))"
   ],
   "id": "fb491f43b7212ae3",
   "outputs": [
    {
     "data": {
      "text/plain": [
       "                                                count  missing  missing_pct  \\\n",
       "2017 NAICS Code                                1016.0        0          0.0   \n",
       "Supply Chain Emission Factors without Margins  1016.0        0          0.0   \n",
       "Margins of Supply Chain Emission Factors       1016.0        0          0.0   \n",
       "Supply Chain Emission Factors with Margins     1016.0        0          0.0   \n",
       "\n",
       "                                                      mean      median  \\\n",
       "2017 NAICS Code                                424917.3770  423700.000   \n",
       "Supply Chain Emission Factors without Margins       0.2650       0.159   \n",
       "Margins of Supply Chain Emission Factors            0.0169       0.000   \n",
       "Supply Chain Emission Factors with Margins          0.2819       0.173   \n",
       "\n",
       "                                                       std         min  \\\n",
       "2017 NAICS Code                                164942.1135  111110.000   \n",
       "Supply Chain Emission Factors without Margins       0.3148       0.026   \n",
       "Margins of Supply Chain Emission Factors            0.0234       0.000   \n",
       "Supply Chain Emission Factors with Margins          0.3214       0.029   \n",
       "\n",
       "                                                      25%         50%  \\\n",
       "2017 NAICS Code                                325588.250  423700.000   \n",
       "Supply Chain Emission Factors without Margins       0.103       0.159   \n",
       "Margins of Supply Chain Emission Factors            0.000       0.000   \n",
       "Supply Chain Emission Factors with Margins          0.108       0.173   \n",
       "\n",
       "                                                       75%         max  \\\n",
       "2017 NAICS Code                                532111.2500  813990.000   \n",
       "Supply Chain Emission Factors without Margins       0.3022       3.846   \n",
       "Margins of Supply Chain Emission Factors            0.0302       0.125   \n",
       "Supply Chain Emission Factors with Margins          0.3293       3.924   \n",
       "\n",
       "                                                 skew  kurtosis  \n",
       "2017 NAICS Code                                0.3717   -0.0240  \n",
       "Supply Chain Emission Factors without Margins  4.3408   31.2405  \n",
       "Margins of Supply Chain Emission Factors       1.5561    2.9807  \n",
       "Supply Chain Emission Factors with Margins     4.2361   30.2992  "
      ],
      "text/html": [
       "<div>\n",
       "<style scoped>\n",
       "    .dataframe tbody tr th:only-of-type {\n",
       "        vertical-align: middle;\n",
       "    }\n",
       "\n",
       "    .dataframe tbody tr th {\n",
       "        vertical-align: top;\n",
       "    }\n",
       "\n",
       "    .dataframe thead th {\n",
       "        text-align: right;\n",
       "    }\n",
       "</style>\n",
       "<table border=\"1\" class=\"dataframe\">\n",
       "  <thead>\n",
       "    <tr style=\"text-align: right;\">\n",
       "      <th></th>\n",
       "      <th>count</th>\n",
       "      <th>missing</th>\n",
       "      <th>missing_pct</th>\n",
       "      <th>mean</th>\n",
       "      <th>median</th>\n",
       "      <th>std</th>\n",
       "      <th>min</th>\n",
       "      <th>25%</th>\n",
       "      <th>50%</th>\n",
       "      <th>75%</th>\n",
       "      <th>max</th>\n",
       "      <th>skew</th>\n",
       "      <th>kurtosis</th>\n",
       "    </tr>\n",
       "  </thead>\n",
       "  <tbody>\n",
       "    <tr>\n",
       "      <th>2017 NAICS Code</th>\n",
       "      <td>1016.0</td>\n",
       "      <td>0</td>\n",
       "      <td>0.0</td>\n",
       "      <td>424917.3770</td>\n",
       "      <td>423700.000</td>\n",
       "      <td>164942.1135</td>\n",
       "      <td>111110.000</td>\n",
       "      <td>325588.250</td>\n",
       "      <td>423700.000</td>\n",
       "      <td>532111.2500</td>\n",
       "      <td>813990.000</td>\n",
       "      <td>0.3717</td>\n",
       "      <td>-0.0240</td>\n",
       "    </tr>\n",
       "    <tr>\n",
       "      <th>Supply Chain Emission Factors without Margins</th>\n",
       "      <td>1016.0</td>\n",
       "      <td>0</td>\n",
       "      <td>0.0</td>\n",
       "      <td>0.2650</td>\n",
       "      <td>0.159</td>\n",
       "      <td>0.3148</td>\n",
       "      <td>0.026</td>\n",
       "      <td>0.103</td>\n",
       "      <td>0.159</td>\n",
       "      <td>0.3022</td>\n",
       "      <td>3.846</td>\n",
       "      <td>4.3408</td>\n",
       "      <td>31.2405</td>\n",
       "    </tr>\n",
       "    <tr>\n",
       "      <th>Margins of Supply Chain Emission Factors</th>\n",
       "      <td>1016.0</td>\n",
       "      <td>0</td>\n",
       "      <td>0.0</td>\n",
       "      <td>0.0169</td>\n",
       "      <td>0.000</td>\n",
       "      <td>0.0234</td>\n",
       "      <td>0.000</td>\n",
       "      <td>0.000</td>\n",
       "      <td>0.000</td>\n",
       "      <td>0.0302</td>\n",
       "      <td>0.125</td>\n",
       "      <td>1.5561</td>\n",
       "      <td>2.9807</td>\n",
       "    </tr>\n",
       "    <tr>\n",
       "      <th>Supply Chain Emission Factors with Margins</th>\n",
       "      <td>1016.0</td>\n",
       "      <td>0</td>\n",
       "      <td>0.0</td>\n",
       "      <td>0.2819</td>\n",
       "      <td>0.173</td>\n",
       "      <td>0.3214</td>\n",
       "      <td>0.029</td>\n",
       "      <td>0.108</td>\n",
       "      <td>0.173</td>\n",
       "      <td>0.3293</td>\n",
       "      <td>3.924</td>\n",
       "      <td>4.2361</td>\n",
       "      <td>30.2992</td>\n",
       "    </tr>\n",
       "  </tbody>\n",
       "</table>\n",
       "</div>"
      ]
     },
     "metadata": {},
     "output_type": "display_data"
    }
   ],
   "execution_count": 7
  },
  {
   "metadata": {
    "ExecuteTime": {
     "end_time": "2025-10-14T17:04:52.115680Z",
     "start_time": "2025-10-14T17:04:52.102866Z"
    }
   },
   "cell_type": "code",
   "source": "quality_df1 = validate_data_quality(df1)",
   "id": "8f1cbf6a2e03a27b",
   "outputs": [
    {
     "name": "stdout",
     "output_type": "stream",
     "text": [
      "\n",
      "🔎 VALIDACIÓN DE CALIDAD DE DATOS\n",
      "======================================================================\n",
      "Total de filas: 1,016\n",
      "Total de columnas: 8\n",
      "Valores faltantes: 0\n",
      "Filas duplicadas: 0\n",
      "Columnas numéricas: 4\n",
      "Columnas categóricas: 4\n",
      "\n",
      "✅ Todas las columnas esperadas están presentes\n",
      "======================================================================\n"
     ]
    }
   ],
   "execution_count": 8
  },
  {
   "metadata": {},
   "cell_type": "markdown",
   "source": "#### 1.2 Información Básica Dataset 2",
   "id": "872e7137872f3684"
  },
  {
   "metadata": {
    "ExecuteTime": {
     "end_time": "2025-10-14T17:04:56.436997Z",
     "start_time": "2025-10-14T17:04:56.394421Z"
    }
   },
   "cell_type": "code",
   "source": "preview_data(df2, n_rows=10)",
   "id": "1d70dc67a1a3d46",
   "outputs": [
    {
     "name": "stdout",
     "output_type": "stream",
     "text": [
      "\n",
      "👀 PRIMERAS 10 FILAS:\n",
      "======================================================================\n",
      "   2017 NAICS Code 2017 NAICS Title                         GHG                               Unit  Supply Chain Emission Factors without Margins  Margins of Supply Chain Emission Factors  Supply Chain Emission Factors with Margins Reference USEEIO Code\n",
      "0           111110  Soybean Farming                      HFC-23       kg/2022 USD, purchaser price                                   3.230000e-09                              1.340000e-09                                4.570000e-09                1111A0\n",
      "1           111110  Soybean Farming              Carbon dioxide       kg/2022 USD, purchaser price                                   1.340000e-01                              3.780000e-02                                1.720000e-01                1111A0\n",
      "2           111110  Soybean Farming                   HFC-236fa       kg/2022 USD, purchaser price                                   1.440000e-10                              2.020000e-10                                3.450000e-10                1111A0\n",
      "3           111110  Soybean Farming        Carbon tetrafluoride       kg/2022 USD, purchaser price                                   5.130000e-09                              5.970000e-09                                1.110000e-08                1111A0\n",
      "4           111110  Soybean Farming                      HFC-32       kg/2022 USD, purchaser price                                   3.000000e-08                              4.200000e-08                                7.200000e-08                1111A0\n",
      "5           111110  Soybean Farming            Hexafluoroethane       kg/2022 USD, purchaser price                                   5.420000e-10                              1.510000e-09                                2.050000e-09                1111A0\n",
      "6           111110  Soybean Farming  HFCs and PFCs, unspecified  kg CO2e/2022 USD, purchaser price                                   3.580000e-04                              4.860000e-04                                8.440000e-04                1111A0\n",
      "7           111110  Soybean Farming                     HFC-125       kg/2022 USD, purchaser price                                   4.560000e-08                              6.190000e-08                                1.080000e-07                1111A0\n",
      "8           111110  Soybean Farming                     Methane       kg/2022 USD, purchaser price                                   3.310000e-04                              1.510000e-04                                4.820000e-04                1111A0\n",
      "9           111110  Soybean Farming                    HFC-134a       kg/2022 USD, purchaser price                                   7.480000e-08                              1.010000e-07                                1.760000e-07                1111A0\n",
      "======================================================================\n"
     ]
    }
   ],
   "execution_count": 9
  },
  {
   "metadata": {
    "ExecuteTime": {
     "end_time": "2025-10-14T17:05:04.190486Z",
     "start_time": "2025-10-14T17:05:04.129198Z"
    }
   },
   "cell_type": "code",
   "source": "get_basic_info(df2, \"Dataset 2 - Factores Desagregados\")",
   "id": "b4c5081072077c4c",
   "outputs": [
    {
     "name": "stdout",
     "output_type": "stream",
     "text": [
      "======================================================================\n",
      "📊 INFORMACIÓN BÁSICA - Dataset 2 - Factores Desagregados\n",
      "======================================================================\n",
      "\n",
      "🔢 Dimensiones: 18288 filas × 8 columnas\n",
      "\n",
      "📋 Columnas:\n",
      "   1. 2017 NAICS Code (int64)\n",
      "   2. 2017 NAICS Title (object)\n",
      "   3. GHG (object)\n",
      "   4. Unit (object)\n",
      "   5. Supply Chain Emission Factors without Margins (float64)\n",
      "   6. Margins of Supply Chain Emission Factors (float64)\n",
      "   7. Supply Chain Emission Factors with Margins (float64)\n",
      "   8. Reference USEEIO Code (object)\n",
      "\n",
      "🔍 Valores nulos:\n",
      "   ✅ No hay valores nulos\n",
      "\n",
      "📈 Valores únicos por columna:\n",
      "   - 2017 NAICS Code: 1016\n",
      "   - 2017 NAICS Title: 1016\n",
      "   - GHG: 18\n",
      "   - Unit: 2\n",
      "   - Supply Chain Emission Factors without Margins: 3511\n",
      "   - Margins of Supply Chain Emission Factors: 2577\n",
      "   - Supply Chain Emission Factors with Margins: 3379\n",
      "   - Reference USEEIO Code: 386\n",
      "\n",
      "💾 Uso de memoria: 6.05 MB\n",
      "\n",
      "======================================================================\n"
     ]
    }
   ],
   "execution_count": 10
  },
  {
   "metadata": {},
   "cell_type": "code",
   "outputs": [],
   "execution_count": null,
   "source": "",
   "id": "2164aec5d552b502"
  },
  {
   "metadata": {
    "ExecuteTime": {
     "end_time": "2025-10-14T17:05:09.951485Z",
     "start_time": "2025-10-14T17:05:09.876942Z"
    }
   },
   "cell_type": "code",
   "source": [
    "stats_df2 = get_descriptive_stats(df2)\n",
    "display(stats_df2.round(4))"
   ],
   "id": "bc893e981c208976",
   "outputs": [
    {
     "data": {
      "text/plain": [
       "                                                 count  missing  missing_pct  \\\n",
       "2017 NAICS Code                                18288.0        0          0.0   \n",
       "Supply Chain Emission Factors without Margins  18288.0        0          0.0   \n",
       "Margins of Supply Chain Emission Factors       18288.0        0          0.0   \n",
       "Supply Chain Emission Factors with Margins     18288.0        0          0.0   \n",
       "\n",
       "                                                      mean    median  \\\n",
       "2017 NAICS Code                                424917.3770  423700.0   \n",
       "Supply Chain Emission Factors without Margins       0.0102       0.0   \n",
       "Margins of Supply Chain Emission Factors            0.0008       0.0   \n",
       "Supply Chain Emission Factors with Margins          0.0110       0.0   \n",
       "\n",
       "                                                       std       min  \\\n",
       "2017 NAICS Code                                164865.4287  111110.0   \n",
       "Supply Chain Emission Factors without Margins       0.0638       0.0   \n",
       "Margins of Supply Chain Emission Factors            0.0058       0.0   \n",
       "Supply Chain Emission Factors with Margins          0.0667       0.0   \n",
       "\n",
       "                                                     25%       50%        75%  \\\n",
       "2017 NAICS Code                                325588.25  423700.0  532111.25   \n",
       "Supply Chain Emission Factors without Margins       0.00       0.0       0.00   \n",
       "Margins of Supply Chain Emission Factors            0.00       0.0       0.00   \n",
       "Supply Chain Emission Factors with Margins          0.00       0.0       0.00   \n",
       "\n",
       "                                                      max     skew  kurtosis  \n",
       "2017 NAICS Code                                813990.000   0.3712   -0.0295  \n",
       "Supply Chain Emission Factors without Margins       3.790  19.0153  775.9375  \n",
       "Margins of Supply Chain Emission Factors            0.109   9.2535  107.9511  \n",
       "Supply Chain Emission Factors with Margins          3.860  17.8430  699.6638  "
      ],
      "text/html": [
       "<div>\n",
       "<style scoped>\n",
       "    .dataframe tbody tr th:only-of-type {\n",
       "        vertical-align: middle;\n",
       "    }\n",
       "\n",
       "    .dataframe tbody tr th {\n",
       "        vertical-align: top;\n",
       "    }\n",
       "\n",
       "    .dataframe thead th {\n",
       "        text-align: right;\n",
       "    }\n",
       "</style>\n",
       "<table border=\"1\" class=\"dataframe\">\n",
       "  <thead>\n",
       "    <tr style=\"text-align: right;\">\n",
       "      <th></th>\n",
       "      <th>count</th>\n",
       "      <th>missing</th>\n",
       "      <th>missing_pct</th>\n",
       "      <th>mean</th>\n",
       "      <th>median</th>\n",
       "      <th>std</th>\n",
       "      <th>min</th>\n",
       "      <th>25%</th>\n",
       "      <th>50%</th>\n",
       "      <th>75%</th>\n",
       "      <th>max</th>\n",
       "      <th>skew</th>\n",
       "      <th>kurtosis</th>\n",
       "    </tr>\n",
       "  </thead>\n",
       "  <tbody>\n",
       "    <tr>\n",
       "      <th>2017 NAICS Code</th>\n",
       "      <td>18288.0</td>\n",
       "      <td>0</td>\n",
       "      <td>0.0</td>\n",
       "      <td>424917.3770</td>\n",
       "      <td>423700.0</td>\n",
       "      <td>164865.4287</td>\n",
       "      <td>111110.0</td>\n",
       "      <td>325588.25</td>\n",
       "      <td>423700.0</td>\n",
       "      <td>532111.25</td>\n",
       "      <td>813990.000</td>\n",
       "      <td>0.3712</td>\n",
       "      <td>-0.0295</td>\n",
       "    </tr>\n",
       "    <tr>\n",
       "      <th>Supply Chain Emission Factors without Margins</th>\n",
       "      <td>18288.0</td>\n",
       "      <td>0</td>\n",
       "      <td>0.0</td>\n",
       "      <td>0.0102</td>\n",
       "      <td>0.0</td>\n",
       "      <td>0.0638</td>\n",
       "      <td>0.0</td>\n",
       "      <td>0.00</td>\n",
       "      <td>0.0</td>\n",
       "      <td>0.00</td>\n",
       "      <td>3.790</td>\n",
       "      <td>19.0153</td>\n",
       "      <td>775.9375</td>\n",
       "    </tr>\n",
       "    <tr>\n",
       "      <th>Margins of Supply Chain Emission Factors</th>\n",
       "      <td>18288.0</td>\n",
       "      <td>0</td>\n",
       "      <td>0.0</td>\n",
       "      <td>0.0008</td>\n",
       "      <td>0.0</td>\n",
       "      <td>0.0058</td>\n",
       "      <td>0.0</td>\n",
       "      <td>0.00</td>\n",
       "      <td>0.0</td>\n",
       "      <td>0.00</td>\n",
       "      <td>0.109</td>\n",
       "      <td>9.2535</td>\n",
       "      <td>107.9511</td>\n",
       "    </tr>\n",
       "    <tr>\n",
       "      <th>Supply Chain Emission Factors with Margins</th>\n",
       "      <td>18288.0</td>\n",
       "      <td>0</td>\n",
       "      <td>0.0</td>\n",
       "      <td>0.0110</td>\n",
       "      <td>0.0</td>\n",
       "      <td>0.0667</td>\n",
       "      <td>0.0</td>\n",
       "      <td>0.00</td>\n",
       "      <td>0.0</td>\n",
       "      <td>0.00</td>\n",
       "      <td>3.860</td>\n",
       "      <td>17.8430</td>\n",
       "      <td>699.6638</td>\n",
       "    </tr>\n",
       "  </tbody>\n",
       "</table>\n",
       "</div>"
      ]
     },
     "metadata": {},
     "output_type": "display_data"
    }
   ],
   "execution_count": 11
  },
  {
   "metadata": {
    "ExecuteTime": {
     "end_time": "2025-10-14T17:05:12.645461Z",
     "start_time": "2025-10-14T17:05:12.616891Z"
    }
   },
   "cell_type": "code",
   "source": "quality_df2 = validate_data_quality(df2)",
   "id": "8e49d50e18bf5b42",
   "outputs": [
    {
     "name": "stdout",
     "output_type": "stream",
     "text": [
      "\n",
      "🔎 VALIDACIÓN DE CALIDAD DE DATOS\n",
      "======================================================================\n",
      "Total de filas: 18,288\n",
      "Total de columnas: 8\n",
      "Valores faltantes: 0\n",
      "Filas duplicadas: 0\n",
      "Columnas numéricas: 4\n",
      "Columnas categóricas: 4\n",
      "\n",
      "✅ Todas las columnas esperadas están presentes\n",
      "======================================================================\n"
     ]
    }
   ],
   "execution_count": 12
  },
  {
   "metadata": {},
   "cell_type": "markdown",
   "source": "#### 1.3 Análisis de Factores",
   "id": "70d7b3762a3548bc"
  },
  {
   "metadata": {},
   "cell_type": "markdown",
   "source": "#### 1.3.1 Factor de Emisión",
   "id": "41fa5d9a3dbe9aa9"
  },
  {
   "metadata": {
    "ExecuteTime": {
     "end_time": "2025-10-14T17:05:16.189341Z",
     "start_time": "2025-10-14T17:05:16.168380Z"
    }
   },
   "cell_type": "code",
   "source": "emission_analysis = analyze_emission_factors(df1)",
   "id": "bac853fa5b2cff75",
   "outputs": [
    {
     "name": "stdout",
     "output_type": "stream",
     "text": [
      "\n",
      "🌍 ANÁLISIS DE FACTORES DE EMISIÓN\n",
      "======================================================================\n",
      "\n",
      "📊 Estadísticas de Factores de Emisión:\n",
      "\n",
      "SEF (sin márgenes):\n",
      "  Media: 0.2650\n",
      "  Mediana: 0.1590\n",
      "  Desv. Est.: 0.3148\n",
      "  Min: 0.0260\n",
      "  Max: 3.8460\n",
      "\n",
      "MEF (márgenes):\n",
      "  Media: 0.0169\n",
      "  Mediana: 0.0000\n",
      "  Desv. Est.: 0.0234\n",
      "\n",
      "Total (con márgenes):\n",
      "  Media: 0.2819\n",
      "  Mediana: 0.1730\n",
      "  Desv. Est.: 0.3214\n",
      "\n",
      "📈 Ratio MEF/SEF:\n",
      "  Media: 0.0978\n",
      "  Mediana: 0.0000\n",
      "\n",
      "🔝 TOP 10 SECTORES CON MAYORES EMISIONES:\n",
      "  1. Cement Manufacturing: 3.9240\n",
      "  2. Beef Cattle Ranching and Farming: 2.8930\n",
      "  3. Cattle Feedlots: 2.8930\n",
      "  4. Dual-Purpose Cattle Ranching and Farming: 2.8930\n",
      "  5. Dairy Cattle and Milk Production: 1.7240\n",
      "  6. Lime Manufacturing: 1.6230\n",
      "  7. Gypsum Product Manufacturing: 1.6230\n",
      "  8. Pipeline Transportation of Crude Oil: 1.6190\n",
      "  9. Pipeline Transportation of Natural Gas: 1.6190\n",
      "  10. Pipeline Transportation of Refined Petroleum Products: 1.6190\n",
      "\n",
      "🔽 TOP 10 SECTORES CON MENORES EMISIONES:\n",
      "  1. Insurance Agencies and Brokerages: 0.0290\n",
      "  2. Claims Adjusting: 0.0290\n",
      "  3. Third Party Administration of Insurance and Pension Funds: 0.0290\n",
      "  4. All Other Insurance Related Activities: 0.0290\n",
      "  5. Direct Health and Medical Insurance Carriers: 0.0330\n",
      "  6. Direct Property and Casualty Insurance Carriers: 0.0330\n",
      "  7. Direct Title Insurance Carriers: 0.0330\n",
      "  8. Other Direct Insurance (except Life, Health, and Medical) Carriers: 0.0330\n",
      "  9. Reinsurance Carriers: 0.0330\n",
      "  10. Lessors of Residential Buildings and Dwellings: 0.0330\n",
      "======================================================================\n"
     ]
    }
   ],
   "execution_count": 13
  },
  {
   "metadata": {},
   "cell_type": "markdown",
   "source": "#### 1.4 Resumen de Columna Específica",
   "id": "3668a359ac8b19a3"
  },
  {
   "metadata": {
    "ExecuteTime": {
     "end_time": "2025-10-14T17:05:19.405578Z",
     "start_time": "2025-10-14T17:05:19.392666Z"
    }
   },
   "cell_type": "code",
   "source": "get_column_summary(df1, 'Supply Chain Emission Factors with Margins')",
   "id": "aebc3f9377caa53d",
   "outputs": [
    {
     "name": "stdout",
     "output_type": "stream",
     "text": [
      "\n",
      "📊 RESUMEN DE COLUMNA: Supply Chain Emission Factors with Margins\n",
      "======================================================================\n",
      "name: Supply Chain Emission Factors with Margins\n",
      "dtype: float64\n",
      "count: 1016\n",
      "missing: 0\n",
      "missing_pct: 0.0\n",
      "unique: 281\n",
      "mean: 0.28189763779527555\n",
      "median: 0.173\n",
      "std: 0.3214166354609928\n",
      "min: 0.029\n",
      "max: 3.924\n",
      "q25: 0.108\n",
      "q75: 0.32925000000000004\n",
      "======================================================================\n"
     ]
    },
    {
     "data": {
      "text/plain": [
       "{'name': 'Supply Chain Emission Factors with Margins',\n",
       " 'dtype': dtype('float64'),\n",
       " 'count': np.int64(1016),\n",
       " 'missing': np.int64(0),\n",
       " 'missing_pct': np.float64(0.0),\n",
       " 'unique': 281,\n",
       " 'mean': np.float64(0.28189763779527555),\n",
       " 'median': np.float64(0.173),\n",
       " 'std': np.float64(0.3214166354609928),\n",
       " 'min': np.float64(0.029),\n",
       " 'max': np.float64(3.924),\n",
       " 'q25': np.float64(0.108),\n",
       " 'q75': np.float64(0.32925000000000004)}"
      ]
     },
     "execution_count": 14,
     "metadata": {},
     "output_type": "execute_result"
    }
   ],
   "execution_count": 14
  },
  {
   "metadata": {},
   "cell_type": "markdown",
   "source": "#### 1.5 Análisis de Distribución NAICS",
   "id": "21d424cca9170e20"
  },
  {
   "metadata": {
    "ExecuteTime": {
     "end_time": "2025-10-14T17:05:23.307778Z",
     "start_time": "2025-10-14T17:05:23.289084Z"
    }
   },
   "cell_type": "code",
   "source": "naics_analysis = analyze_naics_distribution(df1)",
   "id": "9ec71d5e1b12416e",
   "outputs": [
    {
     "name": "stdout",
     "output_type": "stream",
     "text": [
      "\n",
      "🏭 ANÁLISIS DE DISTRIBUCIÓN NAICS\n",
      "======================================================================\n",
      "\n",
      "📊 Distribución por nivel de agregación:\n",
      "  Códigos únicos de 2 dígitos: 23\n",
      "  Códigos únicos de 3 dígitos: 90\n",
      "  Códigos únicos de 4 dígitos: 301\n",
      "  Códigos únicos de 6 dígitos: 1016\n",
      "\n",
      "📈 Top sectores NAICS (2 dígitos):\n",
      "  Sector 33: 189 subsectores\n",
      "  Sector 32: 97 subsectores\n",
      "  Sector 31: 73 subsectores\n",
      "  Sector 42: 71 subsectores\n",
      "  Sector 11: 64 subsectores\n",
      "  Sector 48: 50 subsectores\n",
      "  Sector 54: 49 subsectores\n",
      "  Sector 81: 48 subsectores\n",
      "  Sector 44: 44 subsectores\n",
      "  Sector 56: 44 subsectores\n",
      "======================================================================\n"
     ]
    }
   ],
   "execution_count": 15
  },
  {
   "metadata": {},
   "cell_type": "markdown",
   "source": "#### 1.6 Análisis de Tipos de GHG",
   "id": "715a39366f6e2afb"
  },
  {
   "metadata": {
    "ExecuteTime": {
     "end_time": "2025-10-14T17:05:26.139715Z",
     "start_time": "2025-10-14T17:05:26.125483Z"
    }
   },
   "cell_type": "code",
   "source": "ghg_analysis = analyze_ghg_types(df2)",
   "id": "38b90c1ce57cb206",
   "outputs": [
    {
     "name": "stdout",
     "output_type": "stream",
     "text": [
      "\n",
      "☁️ ANÁLISIS DE TIPOS DE GHG\n",
      "======================================================================\n",
      "\n",
      "📊 Distribución de tipos de GHG:\n",
      "  Total de tipos únicos: 18\n",
      "\n",
      "  Frecuencias:\n",
      "    HFC-23: 1016 (5.56%)\n",
      "    Carbon dioxide: 1016 (5.56%)\n",
      "    HFC-236fa: 1016 (5.56%)\n",
      "    Carbon tetrafluoride: 1016 (5.56%)\n",
      "    HFC-32: 1016 (5.56%)\n",
      "    Hexafluoroethane: 1016 (5.56%)\n",
      "    HFCs and PFCs, unspecified: 1016 (5.56%)\n",
      "    HFC-125: 1016 (5.56%)\n",
      "    Methane: 1016 (5.56%)\n",
      "    HFC-134a: 1016 (5.56%)\n",
      "    Nitrogen trifluoride: 1016 (5.56%)\n",
      "    HFC-143a: 1016 (5.56%)\n",
      "    Nitrous oxide: 1016 (5.56%)\n",
      "    Perfluorobutane: 1016 (5.56%)\n",
      "    Perfluorocyclobutane: 1016 (5.56%)\n",
      "    Perfluorohexane: 1016 (5.56%)\n",
      "    Perfluoropropane: 1016 (5.56%)\n",
      "    Sulfur hexafluoride: 1016 (5.56%)\n",
      "======================================================================\n"
     ]
    }
   ],
   "execution_count": 16
  },
  {
   "metadata": {},
   "cell_type": "markdown",
   "source": "#### 1.7 Detección de Outliers (IQR | Z-Score)",
   "id": "2b9c3394a9007f89"
  },
  {
   "metadata": {
    "ExecuteTime": {
     "end_time": "2025-10-14T17:05:29.878412Z",
     "start_time": "2025-10-14T17:05:29.864620Z"
    }
   },
   "cell_type": "code",
   "source": "outliers_iqr = detect_outliers(df1, 'Supply Chain Emission Factors with Margins', method='iqr', threshold=1.5)",
   "id": "53fa4ecad82f90be",
   "outputs": [
    {
     "name": "stdout",
     "output_type": "stream",
     "text": [
      "\n",
      "🔍 DETECCIÓN DE OUTLIERS (IQR) - Supply Chain Emission Factors with Margins\n",
      "======================================================================\n",
      "Q1: 0.1080\n",
      "Q3: 0.3293\n",
      "IQR: 0.2213\n",
      "Límite inferior: -0.2239\n",
      "Límite superior: 0.6611\n",
      "Outliers detectados: 84 (8.27%)\n",
      "\n",
      "Top 5 outliers:\n",
      "  1. Cement Manufacturing: 3.9240\n",
      "  2. Beef Cattle Ranching and Farming: 2.8930\n",
      "  3. Cattle Feedlots: 2.8930\n",
      "  4. Dual-Purpose Cattle Ranching and Farming: 2.8930\n",
      "  5. Dairy Cattle and Milk Production: 1.7240\n",
      "======================================================================\n"
     ]
    }
   ],
   "execution_count": 17
  },
  {
   "metadata": {
    "ExecuteTime": {
     "end_time": "2025-10-14T17:05:32.411627Z",
     "start_time": "2025-10-14T17:05:32.388887Z"
    }
   },
   "cell_type": "code",
   "source": "outliers_zscore = detect_outliers(df1, 'Supply Chain Emission Factors with Margins', method='zscore', threshold=3)",
   "id": "88cdb11ae6e35269",
   "outputs": [
    {
     "name": "stdout",
     "output_type": "stream",
     "text": [
      "\n",
      "🔍 DETECCIÓN DE OUTLIERS (Z-Score) - Supply Chain Emission Factors with Margins\n",
      "======================================================================\n",
      "Threshold: 3\n",
      "Outliers detectados: 11 (1.08%)\n",
      "\n",
      "Top 5 outliers:\n",
      "  1. Cement Manufacturing: 3.9240\n",
      "  2. Beef Cattle Ranching and Farming: 2.8930\n",
      "  3. Cattle Feedlots: 2.8930\n",
      "  4. Dual-Purpose Cattle Ranching and Farming: 2.8930\n",
      "  5. Dairy Cattle and Milk Production: 1.7240\n",
      "======================================================================\n"
     ]
    }
   ],
   "execution_count": 18
  },
  {
   "metadata": {},
   "cell_type": "markdown",
   "source": "#### 1.8 Análisis de Correlación",
   "id": "71cc0ef3aa638d8d"
  },
  {
   "metadata": {
    "ExecuteTime": {
     "end_time": "2025-10-14T17:05:34.824433Z",
     "start_time": "2025-10-14T17:05:34.810742Z"
    }
   },
   "cell_type": "code",
   "source": [
    "emission_cols = [\n",
    "    'Supply Chain Emission Factors without Margins',\n",
    "    'Margins of Supply Chain Emission Factors',\n",
    "    'Supply Chain Emission Factors with Margins'\n",
    "]\n",
    "\n",
    "corr_matrix = correlation_analysis(df1, columns=emission_cols)\n"
   ],
   "id": "9626bf023bbff4f3",
   "outputs": [
    {
     "name": "stdout",
     "output_type": "stream",
     "text": [
      "\n",
      "🔗 ANÁLISIS DE CORRELACIÓN\n",
      "======================================================================\n",
      "\n",
      "Matriz de correlación:\n",
      "                                               Supply Chain Emission Factors without Margins  \\\n",
      "Supply Chain Emission Factors without Margins                                          1.000   \n",
      "Margins of Supply Chain Emission Factors                                               0.250   \n",
      "Supply Chain Emission Factors with Margins                                             0.998   \n",
      "\n",
      "                                               Margins of Supply Chain Emission Factors  \\\n",
      "Supply Chain Emission Factors without Margins                                     0.250   \n",
      "Margins of Supply Chain Emission Factors                                          1.000   \n",
      "Supply Chain Emission Factors with Margins                                        0.317   \n",
      "\n",
      "                                               Supply Chain Emission Factors with Margins  \n",
      "Supply Chain Emission Factors without Margins                                       0.998  \n",
      "Margins of Supply Chain Emission Factors                                            0.317  \n",
      "Supply Chain Emission Factors with Margins                                          1.000  \n",
      "\n",
      "📊 Correlaciones fuertes (|r| > 0.7):\n",
      "  Supply Chain Emission Factors without Margins <-> Supply Chain Emission Factors with Margins: 0.998\n",
      "======================================================================\n"
     ]
    }
   ],
   "execution_count": 19
  },
  {
   "metadata": {},
   "cell_type": "markdown",
   "source": "#### 1.9 Visualizaciones",
   "id": "656623b95ed94cc1"
  },
  {
   "metadata": {},
   "cell_type": "markdown",
   "source": "#### 1.9.1 Distribución del Factor Total",
   "id": "69046eed131eb3d3"
  },
  {
   "metadata": {
    "ExecuteTime": {
     "end_time": "2025-10-14T17:05:44.383670Z",
     "start_time": "2025-10-14T17:05:44.351945Z"
    }
   },
   "cell_type": "code",
   "source": [
    "# fig1, ax1 = plot_distribution(\n",
    "#     df1, \n",
    "#     'Supply Chain Emission Factors with Margins',\n",
    "#     title='Distribución del Factor Total de Emisiones',\n",
    "#     xlabel='kg CO_2e/$ (2022 USD)'\n",
    "# )\n",
    "# plt.show()"
   ],
   "id": "292d9cfc59092a9f",
   "outputs": [],
   "execution_count": 21
  },
  {
   "metadata": {},
   "cell_type": "markdown",
   "source": "#### 1.9.2 Boxplot",
   "id": "e307a813a3f64800"
  },
  {
   "metadata": {
    "ExecuteTime": {
     "end_time": "2025-10-14T17:05:45.768491Z",
     "start_time": "2025-10-14T17:05:45.761500Z"
    }
   },
   "cell_type": "code",
   "source": [
    "# fig2, ax2 = plot_boxplot(\n",
    "#     df1,\n",
    "#     'Supply Chain Emission Factors with Margins',\n",
    "#     title='Análisis de Outliers - Factor Total',\n",
    "#     ylabel='kg CO_2e/$ (2022 USD)'\n",
    "# )\n",
    "# plt.show()"
   ],
   "id": "34d396df3d375212",
   "outputs": [],
   "execution_count": 22
  },
  {
   "metadata": {},
   "cell_type": "markdown",
   "source": "#### 1.9.3 Top 15 Sectores\n",
   "id": "33ef8c0e472050df"
  },
  {
   "metadata": {
    "ExecuteTime": {
     "end_time": "2025-10-14T17:05:47.752786Z",
     "start_time": "2025-10-14T17:05:47.742118Z"
    }
   },
   "cell_type": "code",
   "source": [
    "# fig3, ax3 = plot_top_sectors(\n",
    "#     df1,\n",
    "#     'Supply Chain Emission Factors with Margins',\n",
    "#     n=15,\n",
    "#     title='Top 15 Sectores con Mayores Emisiones GHG'\n",
    "# )\n",
    "# plt.show()"
   ],
   "id": "6294afd45ad97d65",
   "outputs": [],
   "execution_count": 23
  },
  {
   "metadata": {},
   "cell_type": "markdown",
   "source": "#### 1.9.4 Distribución NAICS",
   "id": "b66af55ff5f8fb7a"
  },
  {
   "metadata": {
    "ExecuteTime": {
     "end_time": "2025-10-14T17:05:49.513421Z",
     "start_time": "2025-10-14T17:05:49.508179Z"
    }
   },
   "cell_type": "code",
   "source": [
    "# fig4, ax4 = plot_naics_distribution(df1, level='2dig', top_n=15)\n",
    "# plt.show()"
   ],
   "id": "8971bc738b51ec88",
   "outputs": [],
   "execution_count": 24
  },
  {
   "metadata": {},
   "cell_type": "markdown",
   "source": "#### 1.9.5 Matriz de Correlación",
   "id": "f2e1c9be470e41d1"
  },
  {
   "metadata": {
    "ExecuteTime": {
     "end_time": "2025-10-14T17:05:51.070308Z",
     "start_time": "2025-10-14T17:05:51.038312Z"
    }
   },
   "cell_type": "code",
   "source": [
    "# fig5, ax5 = plot_correlation_heatmap(df1, columns=emission_cols, figsize=(8, 6))\n",
    "# plt.show()"
   ],
   "id": "8fbb3583b12720d7",
   "outputs": [],
   "execution_count": 25
  },
  {
   "metadata": {},
   "cell_type": "markdown",
   "source": "#### 1.9.6 Comparación de Componentes",
   "id": "a0a2e84bde4e70e4"
  },
  {
   "metadata": {
    "ExecuteTime": {
     "end_time": "2025-10-14T17:05:52.384272Z",
     "start_time": "2025-10-14T17:05:52.379989Z"
    }
   },
   "cell_type": "code",
   "source": [
    "# fig6, axes6 = plot_emission_comparison(df1)\n",
    "# plt.show()"
   ],
   "id": "5c670499c88787e0",
   "outputs": [],
   "execution_count": 26
  },
  {
   "metadata": {},
   "cell_type": "markdown",
   "source": "#### 1.9.7 Composición de GHG",
   "id": "6e143dc0c4e1c242"
  },
  {
   "metadata": {
    "ExecuteTime": {
     "end_time": "2025-10-14T17:05:54.026446Z",
     "start_time": "2025-10-14T17:05:54.009909Z"
    }
   },
   "cell_type": "code",
   "source": [
    "# fig7, axes7 = plot_ghg_composition(df2)\n",
    "# plt.show()"
   ],
   "id": "2bb1c2ac2b8cc14",
   "outputs": [],
   "execution_count": 27
  },
  {
   "metadata": {},
   "cell_type": "markdown",
   "source": "#### 1.9.8 Análisis de Outliers",
   "id": "873b003b9b71ef91"
  },
  {
   "metadata": {
    "ExecuteTime": {
     "end_time": "2025-10-14T17:05:55.677730Z",
     "start_time": "2025-10-14T17:05:55.664847Z"
    }
   },
   "cell_type": "code",
   "source": [
    "# fig8, axes8 = plot_outliers_analysis(\n",
    "#     df1,\n",
    "#     'Supply Chain Emission Factors with Margins',\n",
    "#     method='iqr'\n",
    "# )\n",
    "# plt.show()"
   ],
   "id": "efd11d43aa35fb3c",
   "outputs": [],
   "execution_count": 28
  },
  {
   "metadata": {},
   "cell_type": "markdown",
   "source": "#### 1.9.9 Generar TODAS las Visualizaciones",
   "id": "12319c2afab773a4"
  },
  {
   "metadata": {
    "ExecuteTime": {
     "end_time": "2025-10-14T17:05:57.549789Z",
     "start_time": "2025-10-14T17:05:57.546442Z"
    }
   },
   "cell_type": "code",
   "source": [
    "# figures = create_eda_visualizations(\n",
    "#     df1, \n",
    "#     df2, \n",
    "#     save_path='outputs/eda_plots/'\n",
    "# )"
   ],
   "id": "aad451da9cc9a31a",
   "outputs": [],
   "execution_count": 29
  },
  {
   "metadata": {},
   "cell_type": "markdown",
   "source": "#### 1.10 Reporte EDA Completo - Dataset 1",
   "id": "f1d5e510db4af7e0"
  },
  {
   "metadata": {
    "ExecuteTime": {
     "end_time": "2025-10-14T17:06:02.123282Z",
     "start_time": "2025-10-14T17:06:02.087634Z"
    }
   },
   "cell_type": "code",
   "source": "eda_report_df1 = generate_eda_report(df1, \"Dataset 1 - Factores Agregados\")",
   "id": "bbae87f5e6062e0c",
   "outputs": [
    {
     "name": "stdout",
     "output_type": "stream",
     "text": [
      "\n",
      "======================================================================\n",
      "📋 REPORTE EDA COMPLETO - Dataset 1 - Factores Agregados\n",
      "======================================================================\n",
      "\n",
      "🌍 ANÁLISIS DE FACTORES DE EMISIÓN\n",
      "======================================================================\n",
      "\n",
      "📊 Estadísticas de Factores de Emisión:\n",
      "\n",
      "SEF (sin márgenes):\n",
      "  Media: 0.2650\n",
      "  Mediana: 0.1590\n",
      "  Desv. Est.: 0.3148\n",
      "  Min: 0.0260\n",
      "  Max: 3.8460\n",
      "\n",
      "MEF (márgenes):\n",
      "  Media: 0.0169\n",
      "  Mediana: 0.0000\n",
      "  Desv. Est.: 0.0234\n",
      "\n",
      "Total (con márgenes):\n",
      "  Media: 0.2819\n",
      "  Mediana: 0.1730\n",
      "  Desv. Est.: 0.3214\n",
      "\n",
      "📈 Ratio MEF/SEF:\n",
      "  Media: 0.0978\n",
      "  Mediana: 0.0000\n",
      "\n",
      "🔝 TOP 10 SECTORES CON MAYORES EMISIONES:\n",
      "  1. Cement Manufacturing: 3.9240\n",
      "  2. Beef Cattle Ranching and Farming: 2.8930\n",
      "  3. Cattle Feedlots: 2.8930\n",
      "  4. Dual-Purpose Cattle Ranching and Farming: 2.8930\n",
      "  5. Dairy Cattle and Milk Production: 1.7240\n",
      "  6. Lime Manufacturing: 1.6230\n",
      "  7. Gypsum Product Manufacturing: 1.6230\n",
      "  8. Pipeline Transportation of Crude Oil: 1.6190\n",
      "  9. Pipeline Transportation of Natural Gas: 1.6190\n",
      "  10. Pipeline Transportation of Refined Petroleum Products: 1.6190\n",
      "\n",
      "🔽 TOP 10 SECTORES CON MENORES EMISIONES:\n",
      "  1. Insurance Agencies and Brokerages: 0.0290\n",
      "  2. Claims Adjusting: 0.0290\n",
      "  3. Third Party Administration of Insurance and Pension Funds: 0.0290\n",
      "  4. All Other Insurance Related Activities: 0.0290\n",
      "  5. Direct Health and Medical Insurance Carriers: 0.0330\n",
      "  6. Direct Property and Casualty Insurance Carriers: 0.0330\n",
      "  7. Direct Title Insurance Carriers: 0.0330\n",
      "  8. Other Direct Insurance (except Life, Health, and Medical) Carriers: 0.0330\n",
      "  9. Reinsurance Carriers: 0.0330\n",
      "  10. Lessors of Residential Buildings and Dwellings: 0.0330\n",
      "======================================================================\n",
      "\n",
      "🏭 ANÁLISIS DE DISTRIBUCIÓN NAICS\n",
      "======================================================================\n",
      "\n",
      "📊 Distribución por nivel de agregación:\n",
      "  Códigos únicos de 2 dígitos: 23\n",
      "  Códigos únicos de 3 dígitos: 90\n",
      "  Códigos únicos de 4 dígitos: 301\n",
      "  Códigos únicos de 6 dígitos: 1016\n",
      "\n",
      "📈 Top sectores NAICS (2 dígitos):\n",
      "  Sector 33: 189 subsectores\n",
      "  Sector 32: 97 subsectores\n",
      "  Sector 31: 73 subsectores\n",
      "  Sector 42: 71 subsectores\n",
      "  Sector 11: 64 subsectores\n",
      "  Sector 48: 50 subsectores\n",
      "  Sector 54: 49 subsectores\n",
      "  Sector 81: 48 subsectores\n",
      "  Sector 44: 44 subsectores\n",
      "  Sector 56: 44 subsectores\n",
      "======================================================================\n",
      "\n",
      "🔍 DETECCIÓN DE OUTLIERS (IQR) - Supply Chain Emission Factors with Margins\n",
      "======================================================================\n",
      "Q1: 0.1080\n",
      "Q3: 0.3293\n",
      "IQR: 0.2213\n",
      "Límite inferior: -0.2239\n",
      "Límite superior: 0.6611\n",
      "Outliers detectados: 84 (8.27%)\n",
      "\n",
      "Top 5 outliers:\n",
      "  1. Cement Manufacturing: 3.9240\n",
      "  2. Beef Cattle Ranching and Farming: 2.8930\n",
      "  3. Cattle Feedlots: 2.8930\n",
      "  4. Dual-Purpose Cattle Ranching and Farming: 2.8930\n",
      "  5. Dairy Cattle and Milk Production: 1.7240\n",
      "======================================================================\n",
      "\n",
      "✅ Reporte EDA completado\n",
      "======================================================================\n"
     ]
    }
   ],
   "execution_count": 30
  },
  {
   "metadata": {},
   "cell_type": "markdown",
   "source": "#### 1.11 Reporte EDA Completo - Dataset 2",
   "id": "55835b603410736e"
  },
  {
   "metadata": {
    "ExecuteTime": {
     "end_time": "2025-10-14T17:06:06.152585Z",
     "start_time": "2025-10-14T17:06:06.040097Z"
    }
   },
   "cell_type": "code",
   "source": "eda_report_df2 = generate_eda_report(df2, \"Dataset 2 - Factores Desagregados\")",
   "id": "61cbd085e31364b2",
   "outputs": [
    {
     "name": "stdout",
     "output_type": "stream",
     "text": [
      "\n",
      "======================================================================\n",
      "📋 REPORTE EDA COMPLETO - Dataset 2 - Factores Desagregados\n",
      "======================================================================\n",
      "\n",
      "🌍 ANÁLISIS DE FACTORES DE EMISIÓN\n",
      "======================================================================\n",
      "\n",
      "📊 Estadísticas de Factores de Emisión:\n",
      "\n",
      "SEF (sin márgenes):\n",
      "  Media: 0.0102\n",
      "  Mediana: 0.0000\n",
      "  Desv. Est.: 0.0638\n",
      "  Min: 0.0000\n",
      "  Max: 3.7900\n",
      "\n",
      "MEF (márgenes):\n",
      "  Media: 0.0008\n",
      "  Mediana: 0.0000\n",
      "  Desv. Est.: 0.0058\n",
      "\n",
      "Total (con márgenes):\n",
      "  Media: 0.0110\n",
      "  Mediana: 0.0000\n",
      "  Desv. Est.: 0.0667\n",
      "\n",
      "📈 Ratio MEF/SEF:\n",
      "  Media: 0.2333\n",
      "  Mediana: 0.0000\n",
      "\n",
      "🔝 TOP 10 SECTORES CON MAYORES EMISIONES:\n",
      "  1. Cement Manufacturing: 3.8600\n",
      "  2. Lime Manufacturing: 1.5500\n",
      "  3. Gypsum Product Manufacturing: 1.5500\n",
      "  4. Industrial Gas Manufacturing: 1.0600\n",
      "  5. Pipeline Transportation of Crude Oil: 1.0600\n",
      "  6. Pipeline Transportation of Natural Gas: 1.0600\n",
      "  7. Pipeline Transportation of Refined Petroleum Products: 1.0600\n",
      "  8. All Other Pipeline Transportation: 1.0600\n",
      "  9. Asphalt Paving Mixture and Block Manufacturing: 1.0300\n",
      "  10. Ethyl Alcohol Manufacturing: 0.9650\n",
      "\n",
      "🔽 TOP 10 SECTORES CON MENORES EMISIONES:\n",
      "  1. Lessors of Residential Buildings and Dwellings: 0.0000\n",
      "  2. Insurance Agencies and Brokerages: 0.0000\n",
      "  3. Claims Adjusting: 0.0000\n",
      "  4. Third Party Administration of Insurance and Pension Funds: 0.0000\n",
      "  5. All Other Insurance Related Activities: 0.0000\n",
      "  6. Pipeline Transportation of Crude Oil: 0.0000\n",
      "  7. Pipeline Transportation of Natural Gas: 0.0000\n",
      "  8. Pipeline Transportation of Refined Petroleum Products: 0.0000\n",
      "  9. All Other Pipeline Transportation: 0.0000\n",
      "  10. Independent Artists, Writers, and Performers: 0.0000\n",
      "======================================================================\n",
      "\n",
      "🏭 ANÁLISIS DE DISTRIBUCIÓN NAICS\n",
      "======================================================================\n",
      "\n",
      "📊 Distribución por nivel de agregación:\n",
      "  Códigos únicos de 2 dígitos: 23\n",
      "  Códigos únicos de 3 dígitos: 90\n",
      "  Códigos únicos de 4 dígitos: 301\n",
      "  Códigos únicos de 6 dígitos: 1016\n",
      "\n",
      "📈 Top sectores NAICS (2 dígitos):\n",
      "  Sector 33: 3402 subsectores\n",
      "  Sector 32: 1746 subsectores\n",
      "  Sector 31: 1314 subsectores\n",
      "  Sector 42: 1278 subsectores\n",
      "  Sector 11: 1152 subsectores\n",
      "  Sector 48: 900 subsectores\n",
      "  Sector 54: 882 subsectores\n",
      "  Sector 81: 864 subsectores\n",
      "  Sector 44: 792 subsectores\n",
      "  Sector 56: 792 subsectores\n",
      "======================================================================\n",
      "\n",
      "🔍 DETECCIÓN DE OUTLIERS (IQR) - Supply Chain Emission Factors with Margins\n",
      "======================================================================\n",
      "Q1: 0.0000\n",
      "Q3: 0.0000\n",
      "IQR: 0.0000\n",
      "Límite inferior: -0.0000\n",
      "Límite superior: 0.0000\n",
      "Outliers detectados: 4197 (22.95%)\n",
      "\n",
      "Top 5 outliers:\n",
      "  1. Cement Manufacturing: 3.8600\n",
      "  2. Lime Manufacturing: 1.5500\n",
      "  3. Gypsum Product Manufacturing: 1.5500\n",
      "  4. Industrial Gas Manufacturing: 1.0600\n",
      "  5. Pipeline Transportation of Crude Oil: 1.0600\n",
      "======================================================================\n",
      "\n",
      "☁️ ANÁLISIS DE TIPOS DE GHG\n",
      "======================================================================\n",
      "\n",
      "📊 Distribución de tipos de GHG:\n",
      "  Total de tipos únicos: 18\n",
      "\n",
      "  Frecuencias:\n",
      "    HFC-23: 1016 (5.56%)\n",
      "    Carbon dioxide: 1016 (5.56%)\n",
      "    HFC-236fa: 1016 (5.56%)\n",
      "    Carbon tetrafluoride: 1016 (5.56%)\n",
      "    HFC-32: 1016 (5.56%)\n",
      "    Hexafluoroethane: 1016 (5.56%)\n",
      "    HFCs and PFCs, unspecified: 1016 (5.56%)\n",
      "    HFC-125: 1016 (5.56%)\n",
      "    Methane: 1016 (5.56%)\n",
      "    HFC-134a: 1016 (5.56%)\n",
      "    Nitrogen trifluoride: 1016 (5.56%)\n",
      "    HFC-143a: 1016 (5.56%)\n",
      "    Nitrous oxide: 1016 (5.56%)\n",
      "    Perfluorobutane: 1016 (5.56%)\n",
      "    Perfluorocyclobutane: 1016 (5.56%)\n",
      "    Perfluorohexane: 1016 (5.56%)\n",
      "    Perfluoropropane: 1016 (5.56%)\n",
      "    Sulfur hexafluoride: 1016 (5.56%)\n",
      "======================================================================\n",
      "\n",
      "✅ Reporte EDA completado\n",
      "======================================================================\n"
     ]
    }
   ],
   "execution_count": 31
  },
  {
   "metadata": {},
   "cell_type": "markdown",
   "source": "#### 1.12 Resumen de Hallazgos",
   "id": "86d9eee28a708b94"
  },
  {
   "metadata": {
    "ExecuteTime": {
     "end_time": "2025-10-14T17:06:10.155608Z",
     "start_time": "2025-10-14T17:06:10.140540Z"
    }
   },
   "cell_type": "code",
   "source": [
    "print(\"\\n\" + \"=\"*70)\n",
    "print(\"📝 RESUMEN DE HALLAZGOS - EDA\")\n",
    "print(\"=\"*70)\n",
    "\n",
    "print(\"\\n🔍 Dataset 1 (Factores Agregados):\")\n",
    "print(f\"   - Total de sectores: {len(df1):,}\")\n",
    "print(f\"   - Sectores únicos (NAICS-6): {df1['2017 NAICS Code'].nunique():,}\")\n",
    "print(f\"   - Factor promedio: {df1['Supply Chain Emission Factors with Margins'].mean():.4f} kg CO₂e/$\")\n",
    "print(f\"   - Factor máximo: {df1['Supply Chain Emission Factors with Margins'].max():.4f} kg CO₂e/$\")\n",
    "print(f\"   - Factor mínimo: {df1['Supply Chain Emission Factors with Margins'].min():.4f} kg CO₂e/$\")\n",
    "\n",
    "print(\"\\n🔍 Dataset 2 (Factores Desagregados):\")\n",
    "print(f\"   - Total de registros: {len(df2):,}\")\n",
    "print(f\"   - Tipos de GHG: {df2['GHG'].nunique()}\")\n",
    "\n",
    "print(\"\\n💡 Observaciones Clave:\")\n",
    "print(\"   1. Alta variabilidad en factores de emisión entre sectores\")\n",
    "print(\"   2. Presencia de outliers significativos\")\n",
    "print(\"   3. Fuerte correlación entre SEF y Factor Total\")\n",
    "print(\"   4. Distribución sesgada hacia valores bajos\")\n",
    "print(\"   5. Sectores manufactureros dominan las emisiones altas\")\n",
    "\n",
    "print(\"\\n✅ EDA completado exitosamente\")\n",
    "print(\"=\"*70)"
   ],
   "id": "8b3d83259e6e9965",
   "outputs": [
    {
     "name": "stdout",
     "output_type": "stream",
     "text": [
      "\n",
      "======================================================================\n",
      "📝 RESUMEN DE HALLAZGOS - EDA\n",
      "======================================================================\n",
      "\n",
      "🔍 Dataset 1 (Factores Agregados):\n",
      "   - Total de sectores: 1,016\n",
      "   - Sectores únicos (NAICS-6): 1,016\n",
      "   - Factor promedio: 0.2819 kg CO₂e/$\n",
      "   - Factor máximo: 3.9240 kg CO₂e/$\n",
      "   - Factor mínimo: 0.0290 kg CO₂e/$\n",
      "\n",
      "🔍 Dataset 2 (Factores Desagregados):\n",
      "   - Total de registros: 18,288\n",
      "   - Tipos de GHG: 18\n",
      "\n",
      "💡 Observaciones Clave:\n",
      "   1. Alta variabilidad en factores de emisión entre sectores\n",
      "   2. Presencia de outliers significativos\n",
      "   3. Fuerte correlación entre SEF y Factor Total\n",
      "   4. Distribución sesgada hacia valores bajos\n",
      "   5. Sectores manufactureros dominan las emisiones altas\n",
      "\n",
      "✅ EDA completado exitosamente\n",
      "======================================================================\n"
     ]
    }
   ],
   "execution_count": 32
  },
  {
   "metadata": {},
   "cell_type": "markdown",
   "source": "#### 1.13 Exportar Datos Procesados",
   "id": "2b3de43b5e7b5794"
  },
  {
   "metadata": {
    "ExecuteTime": {
     "end_time": "2025-10-14T17:06:15.226223Z",
     "start_time": "2025-10-14T17:06:14.999844Z"
    }
   },
   "cell_type": "code",
   "source": [
    "os.makedirs('data/processed', exist_ok=True)\n",
    "\n",
    "df1.to_csv('data/processed/dataset1_clean.csv', index=False)\n",
    "df2.to_csv('data/processed/dataset2_clean.csv', index=False)\n",
    "\n",
    "print(\"✅ Datos procesados guardados\")"
   ],
   "id": "8e2e8bb27295e19d",
   "outputs": [
    {
     "name": "stdout",
     "output_type": "stream",
     "text": [
      "✅ Datos procesados guardados\n"
     ]
    }
   ],
   "execution_count": 33
  },
  {
   "metadata": {},
   "cell_type": "markdown",
   "source": "#### 1.14 Exportar Estadísticas y Reportes",
   "id": "e0f69a1a4278edbc"
  },
  {
   "metadata": {
    "collapsed": true,
    "ExecuteTime": {
     "end_time": "2025-10-14T17:06:21.239584Z",
     "start_time": "2025-10-14T17:06:21.223837Z"
    }
   },
   "cell_type": "code",
   "source": [
    "stats_df1.to_csv('outputs/estadisticas_descriptivas_df1.csv')\n",
    "\n",
    "if emission_analysis and 'top_sectors' in emission_analysis:\n",
    "    emission_analysis['top_sectors'].to_csv('outputs/top_sectores_emisiones.csv')\n",
    "\n",
    "if outliers_iqr is not None and len(outliers_iqr) > 0:\n",
    "    outliers_iqr.to_csv('outputs/outliers_detectados.csv', index=False)\n",
    "\n",
    "print(\"✅ Reportes guardados\")"
   ],
   "id": "initial_id",
   "outputs": [
    {
     "name": "stdout",
     "output_type": "stream",
     "text": [
      "✅ Reportes guardados\n"
     ]
    }
   ],
   "execution_count": 34
  },
  {
   "metadata": {},
   "cell_type": "markdown",
   "source": "### Analisis de datos",
   "id": "2ae2abeda2a2efaf"
  },
  {
   "metadata": {
    "ExecuteTime": {
     "end_time": "2025-10-14T17:06:29.550546Z",
     "start_time": "2025-10-14T17:06:29.515631Z"
    }
   },
   "cell_type": "code",
   "source": [
    "# Análisis de unidades en Dataset 2\n",
    "print(\"=\" * 70)\n",
    "print(\"🔍 ANÁLISIS DE UNIDADES - DATASET 2\")\n",
    "print(\"=\" * 70)\n",
    "\n",
    "# 1. Ver qué unidades exactas hay\n",
    "print(\"\\n📋 Unidades únicas:\")\n",
    "print(df2['Unit'].value_counts())\n",
    "\n",
    "# 2. Ver qué gases hay\n",
    "print(\"\\n🧪 Gases únicos (18 gases):\")\n",
    "print(df2['GHG'].value_counts().sort_index())\n",
    "\n",
    "# 3. Verificar si hay duplicación: mismo NAICS + mismo GAS con diferentes unidades\n",
    "duplicacion = df2.groupby(['2017 NAICS Code', 'GHG']).size()\n",
    "duplicados = duplicacion[duplicacion > 1]\n",
    "\n",
    "print(f\"\\n🔎 Verificación de duplicación (NAICS + GAS):\")\n",
    "print(f\"   Total combinaciones: {len(duplicacion)}\")\n",
    "print(f\"   Combinaciones con >1 fila: {len(duplicados)}\")\n",
    "\n",
    "if len(duplicados) > 0:\n",
    "    print(f\"\\n⚠️ HAY DUPLICACIÓN - Mismo NAICS + GAS aparece con ambas unidades\")\n",
    "    print(f\"Ejemplo de duplicados:\")\n",
    "    print(duplicados.head(10))\n",
    "else:\n",
    "    print(f\"\\n✅ NO HAY DUPLICACIÓN - Cada NAICS + GAS tiene solo 1 unidad\")\n",
    "\n",
    "# 4. Distribución por unidad\n",
    "print(\"\\n📊 Distribución de filas por unidad:\")\n",
    "for unit in df2['Unit'].unique():\n",
    "    count = len(df2[df2['Unit'] == unit])\n",
    "    print(f\"   {unit}: {count:,} filas\")"
   ],
   "id": "2725efdc3df0e860",
   "outputs": [
    {
     "name": "stdout",
     "output_type": "stream",
     "text": [
      "======================================================================\n",
      "🔍 ANÁLISIS DE UNIDADES - DATASET 2\n",
      "======================================================================\n",
      "\n",
      "📋 Unidades únicas:\n",
      "Unit\n",
      "kg/2022 USD, purchaser price         17272\n",
      "kg CO2e/2022 USD, purchaser price     1016\n",
      "Name: count, dtype: int64\n",
      "\n",
      "🧪 Gases únicos (18 gases):\n",
      "GHG\n",
      "Carbon dioxide                1016\n",
      "Carbon tetrafluoride          1016\n",
      "HFC-125                       1016\n",
      "HFC-134a                      1016\n",
      "HFC-143a                      1016\n",
      "HFC-23                        1016\n",
      "HFC-236fa                     1016\n",
      "HFC-32                        1016\n",
      "HFCs and PFCs, unspecified    1016\n",
      "Hexafluoroethane              1016\n",
      "Methane                       1016\n",
      "Nitrogen trifluoride          1016\n",
      "Nitrous oxide                 1016\n",
      "Perfluorobutane               1016\n",
      "Perfluorocyclobutane          1016\n",
      "Perfluorohexane               1016\n",
      "Perfluoropropane              1016\n",
      "Sulfur hexafluoride           1016\n",
      "Name: count, dtype: int64\n",
      "\n",
      "🔎 Verificación de duplicación (NAICS + GAS):\n",
      "   Total combinaciones: 18288\n",
      "   Combinaciones con >1 fila: 0\n",
      "\n",
      "✅ NO HAY DUPLICACIÓN - Cada NAICS + GAS tiene solo 1 unidad\n",
      "\n",
      "📊 Distribución de filas por unidad:\n",
      "   kg/2022 USD, purchaser price: 17,272 filas\n",
      "   kg CO2e/2022 USD, purchaser price: 1,016 filas\n"
     ]
    }
   ],
   "execution_count": 36
  },
  {
   "metadata": {
    "ExecuteTime": {
     "end_time": "2025-10-14T17:06:33.579492Z",
     "start_time": "2025-10-14T17:06:33.572808Z"
    }
   },
   "cell_type": "code",
   "source": "print(df2['GHG'].unique())",
   "id": "a2f681bad64e4b99",
   "outputs": [
    {
     "name": "stdout",
     "output_type": "stream",
     "text": [
      "['HFC-23' 'Carbon dioxide' 'HFC-236fa' 'Carbon tetrafluoride' 'HFC-32'\n",
      " 'Hexafluoroethane' 'HFCs and PFCs, unspecified' 'HFC-125' 'Methane'\n",
      " 'HFC-134a' 'Nitrogen trifluoride' 'HFC-143a' 'Nitrous oxide'\n",
      " 'Perfluorobutane' 'Perfluorocyclobutane' 'Perfluorohexane'\n",
      " 'Perfluoropropane' 'Sulfur hexafluoride']\n"
     ]
    }
   ],
   "execution_count": 37
  },
  {
   "metadata": {
    "ExecuteTime": {
     "end_time": "2025-10-14T17:06:35.781139Z",
     "start_time": "2025-10-14T17:06:35.770418Z"
    }
   },
   "cell_type": "code",
   "source": [
    "# Ver qué gas tiene las 1,016 filas en CO2e\n",
    "co2e_gases = df2[df2['Unit'] == 'kg CO2e/2022 USD, purchaser price']['GHG'].value_counts()\n",
    "print(co2e_gases)"
   ],
   "id": "56854829e8f597e0",
   "outputs": [
    {
     "name": "stdout",
     "output_type": "stream",
     "text": [
      "GHG\n",
      "HFCs and PFCs, unspecified    1016\n",
      "Name: count, dtype: int64\n"
     ]
    }
   ],
   "execution_count": 38
  },
  {
   "metadata": {
    "ExecuteTime": {
     "end_time": "2025-10-14T02:18:41.370147Z",
     "start_time": "2025-10-14T02:18:41.357468Z"
    }
   },
   "cell_type": "code",
   "source": [
    "# fig = plot_bubble_chart_top_sectors(df=df1, n_top=30, output_path='outputs/eda_plots/')\n",
    "# plt.show()"
   ],
   "id": "91ca7012426dd26a",
   "outputs": [],
   "execution_count": 93
  },
  {
   "metadata": {
    "ExecuteTime": {
     "end_time": "2025-10-14T02:18:36.012632Z",
     "start_time": "2025-10-14T02:18:35.978037Z"
    }
   },
   "cell_type": "code",
   "source": [
    "# from src.visualization import plot_bubble_chart_sectors\n",
    "# \n",
    "# fig = plot_bubble_chart_sectors(df=df1, n_top=30, output_path='outputs/eda_plots/')\n",
    "# plt.show()"
   ],
   "id": "5748e332bee2485c",
   "outputs": [],
   "execution_count": 92
  },
  {
   "metadata": {
    "ExecuteTime": {
     "end_time": "2025-10-14T02:18:30.588324Z",
     "start_time": "2025-10-14T02:18:30.583965Z"
    }
   },
   "cell_type": "code",
   "source": [
    "# from src.visualization import plot_sunburst_emissions\n",
    "# \n",
    "# fig = plot_sunburst_emissions(df=df1, output_path='sunburst_emissions.html')\n",
    "# fig.show()"
   ],
   "id": "4cd58b599c414088",
   "outputs": [],
   "execution_count": 91
  },
  {
   "metadata": {
    "ExecuteTime": {
     "end_time": "2025-10-14T02:18:02.286486Z",
     "start_time": "2025-10-14T02:18:02.236217Z"
    }
   },
   "cell_type": "code",
   "source": [
    "# from src.visualization import plot_sunburst_top_sectors, plot_sunburst_threshold\n",
    "# \n",
    "# # Opción 1: Top 150\n",
    "# fig1 = plot_sunburst_top_sectors(df=df1, n_top=150, output_path='sunburst_emissions.html')\n",
    "# fig1.show()"
   ],
   "id": "a22d58706c82d9a9",
   "outputs": [],
   "execution_count": 88
  },
  {
   "metadata": {
    "ExecuteTime": {
     "end_time": "2025-10-14T02:18:17.352922Z",
     "start_time": "2025-10-14T02:18:17.338248Z"
    }
   },
   "cell_type": "code",
   "source": [
    "# # Opción 3: Umbral > 0.5\n",
    "# fig2 = plot_sunburst_threshold(df=df1, threshold=0.8, output_path='plot_sunburst_threshold.html')\n",
    "# fig2.show()"
   ],
   "id": "53226c59104cd4fe",
   "outputs": [],
   "execution_count": 89
  },
  {
   "metadata": {
    "ExecuteTime": {
     "end_time": "2025-10-14T02:18:23.457176Z",
     "start_time": "2025-10-14T02:18:23.445534Z"
    }
   },
   "cell_type": "code",
   "source": [
    "# from src.visualization import plot_sunburst_high_impact\n",
    "# \n",
    "# fig = plot_sunburst_high_impact(df=df1)\n",
    "# fig.show()"
   ],
   "id": "ca4784be5131a1af",
   "outputs": [],
   "execution_count": 90
  },
  {
   "metadata": {},
   "cell_type": "markdown",
   "source": "#### Guardado de datos",
   "id": "da3ff119519434de"
  },
  {
   "metadata": {
    "ExecuteTime": {
     "end_time": "2025-10-14T17:18:23.436791Z",
     "start_time": "2025-10-14T17:18:23.423311Z"
    }
   },
   "cell_type": "code",
   "source": [
    "from src.eda_functions import rename_columns_dataset1, rename_columns_dataset2, convert_to_co2e, validate_conversion, \\\n",
    "    save_clean_datasets\n",
    "\n",
    "# 1. Renombrar\n",
    "df1_clean = rename_columns_dataset1(df1)\n",
    "df2_clean = rename_columns_dataset2(df2)"
   ],
   "id": "a2285500808dafeb",
   "outputs": [
    {
     "name": "stdout",
     "output_type": "stream",
     "text": [
      "✅ Columnas renombradas - Dataset 1:\n",
      "   Columnas nuevas: ['naics_code', 'naics_title', 'ghg_type', 'unit', 'sef_without_margins', 'mef_margins', 'sef_with_margins', 'useeio_code']\n",
      "✅ Columnas renombradas - Dataset 2:\n",
      "   Columnas nuevas: ['naics_code', 'naics_title', 'ghg_type', 'unit', 'sef_without_margins', 'mef_margins', 'sef_with_margins', 'useeio_code']\n"
     ]
    }
   ],
   "execution_count": 61
  },
  {
   "metadata": {
    "ExecuteTime": {
     "end_time": "2025-10-14T17:18:27.642382Z",
     "start_time": "2025-10-14T17:18:27.455189Z"
    }
   },
   "cell_type": "code",
   "source": [
    "# 2. Convertir a CO2e\n",
    "df2_co2e = convert_to_co2e(df2_clean)"
   ],
   "id": "2d1217147961ce01",
   "outputs": [
    {
     "name": "stdout",
     "output_type": "stream",
     "text": [
      "📊 Filas a convertir: 17272 de 18288\n",
      "   ✅ Carbon dioxide: 1016 filas convertidas (GWP=1)\n",
      "   ✅ Methane: 1016 filas convertidas (GWP=28)\n",
      "   ✅ Nitrous oxide: 1016 filas convertidas (GWP=265)\n",
      "   ✅ Carbon tetrafluoride: 1016 filas convertidas (GWP=6630)\n",
      "   ✅ Hexafluoroethane: 1016 filas convertidas (GWP=11100)\n",
      "   ✅ Sulfur hexafluoride: 1016 filas convertidas (GWP=23500)\n",
      "   ✅ Nitrogen trifluoride: 1016 filas convertidas (GWP=16100)\n",
      "   ✅ HFC-23: 1016 filas convertidas (GWP=12400)\n",
      "   ✅ HFC-32: 1016 filas convertidas (GWP=677)\n",
      "   ✅ HFC-125: 1016 filas convertidas (GWP=3170)\n",
      "   ✅ HFC-134a: 1016 filas convertidas (GWP=1300)\n",
      "   ✅ HFC-143a: 1016 filas convertidas (GWP=4800)\n",
      "   ✅ HFC-236fa: 1016 filas convertidas (GWP=8060)\n",
      "   ✅ Perfluoropropane: 1016 filas convertidas (GWP=8900)\n",
      "   ✅ Perfluorobutane: 1016 filas convertidas (GWP=9200)\n",
      "   ✅ Perfluorocyclobutane: 1016 filas convertidas (GWP=9540)\n",
      "   ✅ Perfluorohexane: 1016 filas convertidas (GWP=7910)\n",
      "\n",
      "📋 Unidades finales:\n",
      "   kg CO2e/2022 USD, purchaser price: 18288 filas\n"
     ]
    }
   ],
   "execution_count": 62
  },
  {
   "metadata": {
    "ExecuteTime": {
     "end_time": "2025-10-14T17:18:31.232813Z",
     "start_time": "2025-10-14T17:18:31.175871Z"
    }
   },
   "cell_type": "code",
   "source": [
    "# 3. Validar\n",
    "comparison = validate_conversion(df1_clean, df2_co2e)"
   ],
   "id": "a9acd18d1e2bc958",
   "outputs": [
    {
     "name": "stdout",
     "output_type": "stream",
     "text": [
      "======================================================================\n",
      "📊 VALIDACIÓN CRUZADA: Dataset 1 vs Dataset 2 (suma de gases)\n",
      "======================================================================\n",
      "\n",
      "Diferencia promedio (SEF without margins): 1.01%\n",
      "Diferencia promedio (SEF with margins): 1.03%\n",
      "\n",
      "Diferencia máxima: 17.52%\n",
      "Sectores con >10% diferencia: 6\n",
      "\n",
      "🔍 Top 10 sectores con mayor diferencia:\n",
      " naics_code                                                                                                         naics_title  sef_with_margins_ds1  sef_with_margins_ds2  diff_total_pct\n",
      "     515210                                                                            Cable and Other Subscription Programming                 0.094              0.077529       17.522849\n",
      "     515111                                                                                                      Radio Networks                 0.079              0.067439       14.634721\n",
      "     515112                                                                                                      Radio Stations                 0.079              0.067439       14.634721\n",
      "     515120                                                                                             Television Broadcasting                 0.079              0.067439       14.634721\n",
      "     811310         Commercial and Industrial Machinery and Equipment (except Automotive and Electronic) Repair and Maintenance                 0.136              0.118529       12.845967\n",
      "     333415 Air-Conditioning and Warm Air Heating Equipment and Commercial and Industrial Refrigeration Equipment Manufacturing                 0.184              0.162510       11.679509\n",
      "     561710                                                                             Exterminating and Pest Control Services                 0.214              0.194292        9.209169\n",
      "     561740                                                                             Carpet and Upholstery Cleaning Services                 0.214              0.194292        9.209169\n",
      "     561790                                                                           Other Services to Buildings and Dwellings                 0.214              0.194292        9.209169\n",
      "     561720                                                                                                 Janitorial Services                 0.214              0.194292        9.209169\n",
      "     561730                                                                                                Landscaping Services                 0.214              0.194292        9.209169\n"
     ]
    }
   ],
   "execution_count": 63
  },
  {
   "metadata": {
    "ExecuteTime": {
     "end_time": "2025-10-14T17:18:34.853515Z",
     "start_time": "2025-10-14T17:18:34.520985Z"
    }
   },
   "cell_type": "code",
   "source": [
    "# 4. Guardar\n",
    "save_clean_datasets(df1_clean, df2_co2e)"
   ],
   "id": "64525011481b583d",
   "outputs": [
    {
     "name": "stdout",
     "output_type": "stream",
     "text": [
      "======================================================================\n",
      "💾 DATASETS GUARDADOS\n",
      "======================================================================\n",
      "✅ Dataset 1: datos/df1_toFeatures.csv\n",
      "   Dimensiones: (1016, 8)\n",
      "   Columnas: ['naics_code', 'naics_title', 'ghg_type', 'unit', 'sef_without_margins', 'mef_margins', 'sef_with_margins', 'useeio_code']\n",
      "\n",
      "✅ Dataset 2: datos/df2_toFeatures.csv\n",
      "   Dimensiones: (18288, 8)\n",
      "   Columnas: ['naics_code', 'naics_title', 'ghg_type', 'unit', 'sef_without_margins', 'mef_margins', 'sef_with_margins', 'useeio_code']\n",
      "======================================================================\n"
     ]
    }
   ],
   "execution_count": 64
  }
 ],
 "metadata": {
  "kernelspec": {
   "display_name": "Python 3",
   "language": "python",
   "name": "python3"
  },
  "language_info": {
   "codemirror_mode": {
    "name": "ipython",
    "version": 2
   },
   "file_extension": ".py",
   "mimetype": "text/x-python",
   "name": "python",
   "nbconvert_exporter": "python",
   "pygments_lexer": "ipython2",
   "version": "2.7.6"
  }
 },
 "nbformat": 4,
 "nbformat_minor": 5
}
